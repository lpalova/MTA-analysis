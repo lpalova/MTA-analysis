{
 "cells": [
  {
   "cell_type": "markdown",
   "metadata": {},
   "source": [
    "# Reading May and Beg. of June Data"
   ]
  },
  {
   "cell_type": "code",
   "execution_count": 1,
   "metadata": {
    "collapsed": false
   },
   "outputs": [
    {
     "name": "stderr",
     "output_type": "stream",
     "text": [
      "/home/lucia/anaconda2/lib/python2.7/site-packages/matplotlib/font_manager.py:273: UserWarning: Matplotlib is building the font cache using fc-list. This may take a moment.\n",
      "  warnings.warn('Matplotlib is building the font cache using fc-list. This may take a moment.')\n"
     ]
    }
   ],
   "source": [
    "%matplotlib inline\n",
    "#from matplotlib import pyplot as pt\n",
    "import matplotlib\n",
    "import matplotlib.pyplot as plt\n",
    "\n",
    "matplotlib.style.use('ggplot')\n",
    "import pandas as pd\n",
    "import seaborn as sns\n",
    "\n",
    "import numpy as np\n",
    "\n",
    "from datetime import datetime, timedelta\n",
    "\n",
    "import os\n",
    "import glob\n",
    "\n",
    "TIME_INTERVAL = '4H'"
   ]
  },
  {
   "cell_type": "code",
   "execution_count": 2,
   "metadata": {
    "collapsed": false
   },
   "outputs": [
    {
     "name": "stdout",
     "output_type": "stream",
     "text": [
      "\n",
      "got 1152582 rows total.\n"
     ]
    }
   ],
   "source": [
    "def load_local_data():\n",
    "    csv_path = os.path.join(os.getcwd(), 'data-gala/*.txt')\n",
    "    all_files = glob.glob(csv_path)\n",
    "    \n",
    "    all_files = ['/home/lucia/lucia/metis/01-benson/data-gala/01_turnstile_150502.txt',\n",
    "                 '/home/lucia/lucia/metis/01-benson/data-gala/02_turnstile_150509.txt',\n",
    "                 '/home/lucia/lucia/metis/01-benson/data-gala/03_turnstile_150516.txt',\n",
    "                 '/home/lucia/lucia/metis/01-benson/data-gala/04_turnstile_150523.txt',\n",
    "                 '/home/lucia/lucia/metis/01-benson/data-gala/05_turnstile_150530.txt',\n",
    "                 '/home/lucia/lucia/metis/01-benson/data-gala/06_turnstile_150606.txt']\n",
    "    \n",
    "  #  print 'reading data from files:'\n",
    "  #  for f in all_files:\n",
    "  #      print f\n",
    "    \n",
    "    data = pd.concat((pd.read_csv(f) for f in all_files))\n",
    "    \n",
    "    # strip whitespace off column headers (eg 'EXITS               ' has trailing spaces)\n",
    "    data = data.rename(columns=lambda x: x.strip())\n",
    "    return data\n",
    "\n",
    "data = load_local_data()\n",
    "print \"\\ngot %i rows total.\" % len(data)\n",
    "#data.head()"
   ]
  },
  {
   "cell_type": "markdown",
   "metadata": {},
   "source": [
    "# How many unique stations do we have in our set?"
   ]
  },
  {
   "cell_type": "code",
   "execution_count": 3,
   "metadata": {
    "collapsed": false,
    "scrolled": true
   },
   "outputs": [
    {
     "name": "stdout",
     "output_type": "stream",
     "text": [
      "384\n"
     ]
    }
   ],
   "source": [
    "# How many stations are there?\n",
    "unique_stations = data.STATION.unique()\n",
    "print len(unique_stations)"
   ]
  },
  {
   "cell_type": "markdown",
   "metadata": {},
   "source": [
    "# Transforming data: creating datetime, entries and exits diffs, and sums"
   ]
  },
  {
   "cell_type": "code",
   "execution_count": 4,
   "metadata": {
    "collapsed": false
   },
   "outputs": [
    {
     "data": {
      "text/html": [
       "<div>\n",
       "<table border=\"1\" class=\"dataframe\">\n",
       "  <thead>\n",
       "    <tr style=\"text-align: right;\">\n",
       "      <th></th>\n",
       "      <th>C/A</th>\n",
       "      <th>UNIT</th>\n",
       "      <th>SCP</th>\n",
       "      <th>STATION</th>\n",
       "      <th>LINENAME</th>\n",
       "      <th>DIVISION</th>\n",
       "      <th>DATE</th>\n",
       "      <th>TIME</th>\n",
       "      <th>DESC</th>\n",
       "      <th>ENTRIES</th>\n",
       "      <th>EXITS</th>\n",
       "      <th>DATETIME</th>\n",
       "    </tr>\n",
       "  </thead>\n",
       "  <tbody>\n",
       "    <tr>\n",
       "      <th>191727</th>\n",
       "      <td>TRAM2</td>\n",
       "      <td>R469</td>\n",
       "      <td>00-05-01</td>\n",
       "      <td>RIT-ROOSEVELT</td>\n",
       "      <td>R</td>\n",
       "      <td>RIT</td>\n",
       "      <td>06/05/2015</td>\n",
       "      <td>05:00:00</td>\n",
       "      <td>REGULAR</td>\n",
       "      <td>5554</td>\n",
       "      <td>212</td>\n",
       "      <td>2015-06-05 05:00:00</td>\n",
       "    </tr>\n",
       "    <tr>\n",
       "      <th>191728</th>\n",
       "      <td>TRAM2</td>\n",
       "      <td>R469</td>\n",
       "      <td>00-05-01</td>\n",
       "      <td>RIT-ROOSEVELT</td>\n",
       "      <td>R</td>\n",
       "      <td>RIT</td>\n",
       "      <td>06/05/2015</td>\n",
       "      <td>09:00:00</td>\n",
       "      <td>REGULAR</td>\n",
       "      <td>5554</td>\n",
       "      <td>212</td>\n",
       "      <td>2015-06-05 09:00:00</td>\n",
       "    </tr>\n",
       "    <tr>\n",
       "      <th>191729</th>\n",
       "      <td>TRAM2</td>\n",
       "      <td>R469</td>\n",
       "      <td>00-05-01</td>\n",
       "      <td>RIT-ROOSEVELT</td>\n",
       "      <td>R</td>\n",
       "      <td>RIT</td>\n",
       "      <td>06/05/2015</td>\n",
       "      <td>13:00:00</td>\n",
       "      <td>REGULAR</td>\n",
       "      <td>5554</td>\n",
       "      <td>212</td>\n",
       "      <td>2015-06-05 13:00:00</td>\n",
       "    </tr>\n",
       "    <tr>\n",
       "      <th>191730</th>\n",
       "      <td>TRAM2</td>\n",
       "      <td>R469</td>\n",
       "      <td>00-05-01</td>\n",
       "      <td>RIT-ROOSEVELT</td>\n",
       "      <td>R</td>\n",
       "      <td>RIT</td>\n",
       "      <td>06/05/2015</td>\n",
       "      <td>17:00:00</td>\n",
       "      <td>REGULAR</td>\n",
       "      <td>5554</td>\n",
       "      <td>212</td>\n",
       "      <td>2015-06-05 17:00:00</td>\n",
       "    </tr>\n",
       "    <tr>\n",
       "      <th>191731</th>\n",
       "      <td>TRAM2</td>\n",
       "      <td>R469</td>\n",
       "      <td>00-05-01</td>\n",
       "      <td>RIT-ROOSEVELT</td>\n",
       "      <td>R</td>\n",
       "      <td>RIT</td>\n",
       "      <td>06/05/2015</td>\n",
       "      <td>21:00:00</td>\n",
       "      <td>REGULAR</td>\n",
       "      <td>5554</td>\n",
       "      <td>212</td>\n",
       "      <td>2015-06-05 21:00:00</td>\n",
       "    </tr>\n",
       "  </tbody>\n",
       "</table>\n",
       "</div>"
      ],
      "text/plain": [
       "          C/A  UNIT       SCP        STATION LINENAME DIVISION        DATE  \\\n",
       "191727  TRAM2  R469  00-05-01  RIT-ROOSEVELT        R      RIT  06/05/2015   \n",
       "191728  TRAM2  R469  00-05-01  RIT-ROOSEVELT        R      RIT  06/05/2015   \n",
       "191729  TRAM2  R469  00-05-01  RIT-ROOSEVELT        R      RIT  06/05/2015   \n",
       "191730  TRAM2  R469  00-05-01  RIT-ROOSEVELT        R      RIT  06/05/2015   \n",
       "191731  TRAM2  R469  00-05-01  RIT-ROOSEVELT        R      RIT  06/05/2015   \n",
       "\n",
       "            TIME     DESC  ENTRIES  EXITS            DATETIME  \n",
       "191727  05:00:00  REGULAR     5554    212 2015-06-05 05:00:00  \n",
       "191728  09:00:00  REGULAR     5554    212 2015-06-05 09:00:00  \n",
       "191729  13:00:00  REGULAR     5554    212 2015-06-05 13:00:00  \n",
       "191730  17:00:00  REGULAR     5554    212 2015-06-05 17:00:00  \n",
       "191731  21:00:00  REGULAR     5554    212 2015-06-05 21:00:00  "
      ]
     },
     "execution_count": 4,
     "metadata": {},
     "output_type": "execute_result"
    }
   ],
   "source": [
    "# make a datetime column\n",
    "data['DATETIME'] = pd.to_datetime(data.DATE + ' ' + data.TIME, format=\"%m/%d/%Y %H:%M:%S\")\n",
    "data.head()\n",
    "data.tail()"
   ]
  },
  {
   "cell_type": "code",
   "execution_count": 5,
   "metadata": {
    "collapsed": false
   },
   "outputs": [
    {
     "data": {
      "text/html": [
       "<div>\n",
       "<table border=\"1\" class=\"dataframe\">\n",
       "  <thead>\n",
       "    <tr style=\"text-align: right;\">\n",
       "      <th></th>\n",
       "      <th>C/A</th>\n",
       "      <th>UNIT</th>\n",
       "      <th>SCP</th>\n",
       "      <th>STATION</th>\n",
       "      <th>LINENAME</th>\n",
       "      <th>DIVISION</th>\n",
       "      <th>DATE</th>\n",
       "      <th>TIME</th>\n",
       "      <th>DESC</th>\n",
       "      <th>ENTRIES</th>\n",
       "      <th>EXITS</th>\n",
       "      <th>DATETIME</th>\n",
       "    </tr>\n",
       "  </thead>\n",
       "  <tbody>\n",
       "    <tr>\n",
       "      <th>191727</th>\n",
       "      <td>TRAM2</td>\n",
       "      <td>R469</td>\n",
       "      <td>00-05-01</td>\n",
       "      <td>RIT-ROOSEVELT</td>\n",
       "      <td>R</td>\n",
       "      <td>RIT</td>\n",
       "      <td>06/05/2015</td>\n",
       "      <td>05:00:00</td>\n",
       "      <td>REGULAR</td>\n",
       "      <td>5554</td>\n",
       "      <td>212</td>\n",
       "      <td>2015-06-05 05:00:00</td>\n",
       "    </tr>\n",
       "    <tr>\n",
       "      <th>191728</th>\n",
       "      <td>TRAM2</td>\n",
       "      <td>R469</td>\n",
       "      <td>00-05-01</td>\n",
       "      <td>RIT-ROOSEVELT</td>\n",
       "      <td>R</td>\n",
       "      <td>RIT</td>\n",
       "      <td>06/05/2015</td>\n",
       "      <td>09:00:00</td>\n",
       "      <td>REGULAR</td>\n",
       "      <td>5554</td>\n",
       "      <td>212</td>\n",
       "      <td>2015-06-05 09:00:00</td>\n",
       "    </tr>\n",
       "    <tr>\n",
       "      <th>191729</th>\n",
       "      <td>TRAM2</td>\n",
       "      <td>R469</td>\n",
       "      <td>00-05-01</td>\n",
       "      <td>RIT-ROOSEVELT</td>\n",
       "      <td>R</td>\n",
       "      <td>RIT</td>\n",
       "      <td>06/05/2015</td>\n",
       "      <td>13:00:00</td>\n",
       "      <td>REGULAR</td>\n",
       "      <td>5554</td>\n",
       "      <td>212</td>\n",
       "      <td>2015-06-05 13:00:00</td>\n",
       "    </tr>\n",
       "    <tr>\n",
       "      <th>191730</th>\n",
       "      <td>TRAM2</td>\n",
       "      <td>R469</td>\n",
       "      <td>00-05-01</td>\n",
       "      <td>RIT-ROOSEVELT</td>\n",
       "      <td>R</td>\n",
       "      <td>RIT</td>\n",
       "      <td>06/05/2015</td>\n",
       "      <td>17:00:00</td>\n",
       "      <td>REGULAR</td>\n",
       "      <td>5554</td>\n",
       "      <td>212</td>\n",
       "      <td>2015-06-05 17:00:00</td>\n",
       "    </tr>\n",
       "    <tr>\n",
       "      <th>191731</th>\n",
       "      <td>TRAM2</td>\n",
       "      <td>R469</td>\n",
       "      <td>00-05-01</td>\n",
       "      <td>RIT-ROOSEVELT</td>\n",
       "      <td>R</td>\n",
       "      <td>RIT</td>\n",
       "      <td>06/05/2015</td>\n",
       "      <td>21:00:00</td>\n",
       "      <td>REGULAR</td>\n",
       "      <td>5554</td>\n",
       "      <td>212</td>\n",
       "      <td>2015-06-05 21:00:00</td>\n",
       "    </tr>\n",
       "  </tbody>\n",
       "</table>\n",
       "</div>"
      ],
      "text/plain": [
       "          C/A  UNIT       SCP        STATION LINENAME DIVISION        DATE  \\\n",
       "191727  TRAM2  R469  00-05-01  RIT-ROOSEVELT        R      RIT  06/05/2015   \n",
       "191728  TRAM2  R469  00-05-01  RIT-ROOSEVELT        R      RIT  06/05/2015   \n",
       "191729  TRAM2  R469  00-05-01  RIT-ROOSEVELT        R      RIT  06/05/2015   \n",
       "191730  TRAM2  R469  00-05-01  RIT-ROOSEVELT        R      RIT  06/05/2015   \n",
       "191731  TRAM2  R469  00-05-01  RIT-ROOSEVELT        R      RIT  06/05/2015   \n",
       "\n",
       "            TIME     DESC  ENTRIES  EXITS            DATETIME  \n",
       "191727  05:00:00  REGULAR     5554    212 2015-06-05 05:00:00  \n",
       "191728  09:00:00  REGULAR     5554    212 2015-06-05 09:00:00  \n",
       "191729  13:00:00  REGULAR     5554    212 2015-06-05 13:00:00  \n",
       "191730  17:00:00  REGULAR     5554    212 2015-06-05 17:00:00  \n",
       "191731  21:00:00  REGULAR     5554    212 2015-06-05 21:00:00  "
      ]
     },
     "execution_count": 5,
     "metadata": {},
     "output_type": "execute_result"
    }
   ],
   "source": [
    "# make a datetime column\n",
    "data['DATETIME'] = pd.to_datetime(data.DATE + ' ' + data.TIME, format=\"%m/%d/%Y %H:%M:%S\")\n",
    "data.head()\n",
    "data.tail()"
   ]
  },
  {
   "cell_type": "code",
   "execution_count": 6,
   "metadata": {
    "collapsed": false
   },
   "outputs": [
    {
     "data": {
      "text/html": [
       "<div>\n",
       "<table border=\"1\" class=\"dataframe\">\n",
       "  <thead>\n",
       "    <tr style=\"text-align: right;\">\n",
       "      <th></th>\n",
       "      <th>C/A</th>\n",
       "      <th>UNIT</th>\n",
       "      <th>SCP</th>\n",
       "      <th>STATION</th>\n",
       "      <th>LINENAME</th>\n",
       "      <th>DIVISION</th>\n",
       "      <th>DATE</th>\n",
       "      <th>TIME</th>\n",
       "      <th>DESC</th>\n",
       "      <th>ENTRIES</th>\n",
       "      <th>EXITS</th>\n",
       "      <th>DATETIME</th>\n",
       "      <th>ENTRIES_DIFF</th>\n",
       "      <th>EXITS_DIFF</th>\n",
       "    </tr>\n",
       "  </thead>\n",
       "  <tbody>\n",
       "    <tr>\n",
       "      <th>0</th>\n",
       "      <td>A002</td>\n",
       "      <td>R051</td>\n",
       "      <td>02-00-00</td>\n",
       "      <td>LEXINGTON AVE</td>\n",
       "      <td>NQR456</td>\n",
       "      <td>BMT</td>\n",
       "      <td>04/25/2015</td>\n",
       "      <td>00:00:00</td>\n",
       "      <td>REGULAR</td>\n",
       "      <td>5106770</td>\n",
       "      <td>1729635</td>\n",
       "      <td>2015-04-25 00:00:00</td>\n",
       "      <td>NaN</td>\n",
       "      <td>NaN</td>\n",
       "    </tr>\n",
       "    <tr>\n",
       "      <th>1</th>\n",
       "      <td>A002</td>\n",
       "      <td>R051</td>\n",
       "      <td>02-00-00</td>\n",
       "      <td>LEXINGTON AVE</td>\n",
       "      <td>NQR456</td>\n",
       "      <td>BMT</td>\n",
       "      <td>04/25/2015</td>\n",
       "      <td>04:00:00</td>\n",
       "      <td>REGULAR</td>\n",
       "      <td>5106810</td>\n",
       "      <td>1729649</td>\n",
       "      <td>2015-04-25 04:00:00</td>\n",
       "      <td>40.0</td>\n",
       "      <td>14.0</td>\n",
       "    </tr>\n",
       "    <tr>\n",
       "      <th>2</th>\n",
       "      <td>A002</td>\n",
       "      <td>R051</td>\n",
       "      <td>02-00-00</td>\n",
       "      <td>LEXINGTON AVE</td>\n",
       "      <td>NQR456</td>\n",
       "      <td>BMT</td>\n",
       "      <td>04/25/2015</td>\n",
       "      <td>08:00:00</td>\n",
       "      <td>REGULAR</td>\n",
       "      <td>5106835</td>\n",
       "      <td>1729680</td>\n",
       "      <td>2015-04-25 08:00:00</td>\n",
       "      <td>25.0</td>\n",
       "      <td>31.0</td>\n",
       "    </tr>\n",
       "  </tbody>\n",
       "</table>\n",
       "</div>"
      ],
      "text/plain": [
       "    C/A  UNIT       SCP        STATION LINENAME DIVISION        DATE  \\\n",
       "0  A002  R051  02-00-00  LEXINGTON AVE   NQR456      BMT  04/25/2015   \n",
       "1  A002  R051  02-00-00  LEXINGTON AVE   NQR456      BMT  04/25/2015   \n",
       "2  A002  R051  02-00-00  LEXINGTON AVE   NQR456      BMT  04/25/2015   \n",
       "\n",
       "       TIME     DESC  ENTRIES    EXITS            DATETIME  ENTRIES_DIFF  \\\n",
       "0  00:00:00  REGULAR  5106770  1729635 2015-04-25 00:00:00           NaN   \n",
       "1  04:00:00  REGULAR  5106810  1729649 2015-04-25 04:00:00          40.0   \n",
       "2  08:00:00  REGULAR  5106835  1729680 2015-04-25 08:00:00          25.0   \n",
       "\n",
       "   EXITS_DIFF  \n",
       "0         NaN  \n",
       "1        14.0  \n",
       "2        31.0  "
      ]
     },
     "execution_count": 6,
     "metadata": {},
     "output_type": "execute_result"
    }
   ],
   "source": [
    "# Calclate new columns ENTRIES_DIFF and EXITS_DIFF for each unique turnstile/device.\n",
    "# The first entry is NaN, the rest of the entries are the difference from the previous.\n",
    "turnstile_groupby = data.groupby(['C/A','UNIT','SCP','STATION'])\n",
    "for diff_field in ('ENTRIES','EXITS'):\n",
    "    data[diff_field + '_DIFF'] = turnstile_groupby[diff_field].transform(pd.Series.diff)\n",
    "data.head(3)"
   ]
  },
  {
   "cell_type": "code",
   "execution_count": 7,
   "metadata": {
    "collapsed": false
   },
   "outputs": [
    {
     "name": "stdout",
     "output_type": "stream",
     "text": [
      "the number of NaN entries should equal the total unique turnstiles.\n",
      "4568 4568\n"
     ]
    }
   ],
   "source": [
    "# sanity check for getting the differences:\n",
    "nan_entries = len(data[data.ENTRIES_DIFF.isnull()])\n",
    "total_unique_turnstiles = len(turnstile_groupby)\n",
    "print 'the number of NaN entries should equal the total unique turnstiles.'\n",
    "print nan_entries, total_unique_turnstiles\n",
    "\n",
    "assert nan_entries == total_unique_turnstiles"
   ]
  },
  {
   "cell_type": "code",
   "execution_count": 8,
   "metadata": {
    "collapsed": false
   },
   "outputs": [
    {
     "name": "stdout",
     "output_type": "stream",
     "text": [
      "4568\n",
      "1148014\n",
      "1152582\n"
     ]
    }
   ],
   "source": [
    "# learning how to deal with NA values\n",
    "print len(data[data.ENTRIES_DIFF.isnull()])\n",
    "print len(data.dropna())\n",
    "print len(data)"
   ]
  },
  {
   "cell_type": "code",
   "execution_count": 9,
   "metadata": {
    "collapsed": false
   },
   "outputs": [],
   "source": [
    "# prepisovanie dat\n",
    "#data.ix[ data.TIME > '20:00:00','DATETIME'] = data.DATETIME'20:00:00' \n",
    "#data['APPROXTIME'] = data['DATETIME'].apply(lambda dt: datetime(dt.year, dt.month, dt.day,4*(dt.hour//4)))\n",
    "#filt = data[ data.TIME == '07:00:00']\n",
    "#print filt.head()"
   ]
  },
  {
   "cell_type": "code",
   "execution_count": 10,
   "metadata": {
    "collapsed": false
   },
   "outputs": [
    {
     "name": "stdout",
     "output_type": "stream",
     "text": [
      "0.996898121451\n"
     ]
    }
   ],
   "source": [
    "# dropping NA values and all non-REGULAR recordings\n",
    "# calculating percentage of \"regular\" values vs. all nonNA values\n",
    "reg_data = data.dropna()\n",
    "reg_data = reg_data[ reg_data['DESC'] == 'REGULAR']\n",
    "print len(reg_data)/float(len(data.dropna()))\n",
    "#print reg_data.describe()"
   ]
  },
  {
   "cell_type": "code",
   "execution_count": 11,
   "metadata": {
    "collapsed": false
   },
   "outputs": [],
   "source": [
    "#rng = pd.date_range('1/1/2011', periods=5, freq='H')\n",
    "#ts = pd.Series(np.random.randn(len(rng)), index=rng)\n",
    "#print ts\n",
    "#print ts.resample('2H').sum().head()"
   ]
  },
  {
   "cell_type": "code",
   "execution_count": 12,
   "metadata": {
    "collapsed": false
   },
   "outputs": [],
   "source": [
    "# FYI: there are about 48% of rows that are recorded at times other than 0,4,8,12,16 or 20 hours !!! \n",
    "#times_4h = ['00:00:00','04:00:00','08:00:00','12:00:00','16:00:00','20:00:00']\n",
    "#filtered_times = reg_data[ reg_data['APPROXTIME'].isin(times_4h)]\n",
    "#print filtered_times['TIME'].unique()\n",
    "#print reg_data['TIME'].unique()\n",
    "#print (len(reg_data)-len(filtered_times))/float(len(reg_data))\n",
    "#\n",
    "#print reg_data['APPROXTIME'].describe()\n",
    "#check for 4-h outsiders: none! :) \n",
    "#data['APPROXTIME'].apply(lambda dt: dt.hour).unique()"
   ]
  },
  {
   "cell_type": "markdown",
   "metadata": {},
   "source": [
    "# Dealing with 4-h timestamps"
   ]
  },
  {
   "cell_type": "code",
   "execution_count": 13,
   "metadata": {
    "collapsed": false
   },
   "outputs": [
    {
     "name": "stdout",
     "output_type": "stream",
     "text": [
      "168235 95848\n",
      "1 AVE\n",
      "len before rounding:\n",
      "257\n",
      "len after rounding:\n",
      "251\n",
      "  STATION            DATETIME  ENTRIES_DIFF  EXITS_DIFF\n",
      "0   1 AVE 2015-04-25 04:00:00           3.0        76.0\n",
      "1   1 AVE 2015-04-25 08:00:00           2.0        53.0\n",
      "2   1 AVE 2015-04-25 12:00:00           2.0        54.0\n",
      "3   1 AVE 2015-04-25 16:00:00           4.0        57.0\n",
      "4   1 AVE 2015-04-25 20:00:00           0.0        41.0\n"
     ]
    }
   ],
   "source": [
    "#print reg_data.head()\n",
    "# group by station name and datetime,\n",
    "station_time_groupby = reg_data.groupby(['STATION','DATETIME','DATE','TIME'], as_index=False)\n",
    "station_period_totals = station_time_groupby[['ENTRIES_DIFF', 'EXITS_DIFF']].sum()\n",
    "rounded_times = station_period_totals.set_index('DATETIME').groupby('STATION')\n",
    "rounded_times = rounded_times.resample(TIME_INTERVAL,convention='end').sum()\n",
    "print len(station_period_totals), len(rounded_times)\n",
    "station_of_interest = '1 AVE'\n",
    "print station_of_interest\n",
    "print 'len before rounding:'\n",
    "print len(station_period_totals[station_period_totals.STATION == station_of_interest])\n",
    "print 'len after rounding:'\n",
    "print len(rounded_times.loc[station_of_interest])\n",
    "rounded_times = rounded_times.reset_index()\n",
    "print rounded_times.head()"
   ]
  },
  {
   "cell_type": "markdown",
   "metadata": {},
   "source": [
    "# Finding Max Entries Stations"
   ]
  },
  {
   "cell_type": "code",
   "execution_count": 14,
   "metadata": {
    "collapsed": false
   },
   "outputs": [
    {
     "name": "stdout",
     "output_type": "stream",
     "text": [
      "                 ENTRIES_DIFF  EXITS_DIFF\n",
      "STATION                                  \n",
      "34 ST-PENN STA      6388309.0   5517451.0\n",
      "42 ST-GRD CNTRL     5421175.0   5054367.0\n",
      "34 ST-HERALD SQ     4359345.0   4116555.0\n",
      "86 ST               4303861.0   3391643.0\n",
      "14 ST-UNION SQ      4133901.0   3696293.0\n",
      "42 ST-TIMES SQ      3709823.0   3391320.0\n",
      "42 ST-PA BUS TE     3145886.0   2819216.0\n",
      "96 ST               3028903.0   2016287.0\n",
      "59 ST-COLUMBUS      2802928.0   2260833.0\n",
      "FULTON ST           2750483.0   2370208.0\n",
      "CANAL ST            2704407.0   2134621.0\n",
      "125 ST              2672914.0   2490402.0\n",
      "CHAMBERS ST         2603996.0   1590609.0\n",
      "23 ST               2470256.0   1898957.0\n",
      "59 ST               2410684.0   1992695.0\n",
      "MAIN ST             2267407.0   1887297.0\n",
      "47-50 ST-ROCK       2102758.0   2174243.0\n",
      "72 ST               2017840.0   1489414.0\n",
      "ROOSEVELT AVE       1922060.0   1515332.0\n",
      "50 ST               1893964.0   1573214.0\n"
     ]
    }
   ],
   "source": [
    "top_20_entries = rounded_times[ (rounded_times['ENTRIES_DIFF'] >= 0) & (rounded_times['ENTRIES_DIFF'] < 1000000)]\n",
    "top_20_entries = top_20_entries.groupby(['STATION'])\n",
    "top_20_entries = top_20_entries['ENTRIES_DIFF','EXITS_DIFF'].sum().sort_values(by='ENTRIES_DIFF', ascending=0)\n",
    "top_20_entries = top_20_entries[:20]\n",
    "print top_20_entries"
   ]
  },
  {
   "cell_type": "code",
   "execution_count": 15,
   "metadata": {
    "collapsed": false
   },
   "outputs": [
    {
     "data": {
      "image/png": "[encoded data removed]",
      "text/plain": [
       "<matplotlib.figure.Figure at 0x7f4164e9e4d0>"
      ]
     },
     "metadata": {},
     "output_type": "display_data"
    }
   ],
   "source": [
    "top_20_entries_vals = top_20_entries.ENTRIES_DIFF\n",
    "matplotlib.rc('xtick', labelsize=25) \n",
    "matplotlib.rc('ytick', labelsize=25) \n",
    "plt.figure(figsize = (30,15))\n",
    "plt.title('Top 20 Stations by Total Entries (April-June 2015)',fontsize=50, color='grey', fontweight='bold')\n",
    "plt.xlabel('ENTRIES',fontsize=30)\n",
    "plt.ylabel('Station',fontsize=30)\n",
    "#fig, ax = plt.subplots(figsize=[25,10])\n",
    "top_20_entries_vals.sort_values(ascending=True).plot(kind='barh', color ='#63d297')\n",
    "path = \"entries/top_20_entries_stations.png\"\n",
    "plt.savefig(path)"
   ]
  },
  {
   "cell_type": "markdown",
   "metadata": {},
   "source": [
    "# Station Entries Day Time Heatmap"
   ]
  },
  {
   "cell_type": "code",
   "execution_count": 16,
   "metadata": {
    "collapsed": false
   },
   "outputs": [],
   "source": [
    "data_dt_entries = rounded_times[ (rounded_times['ENTRIES_DIFF'] >= 0) & (rounded_times['ENTRIES_DIFF'] < 1000000)]\n",
    "data_dt_entries = data_dt_entries[['STATION', 'DATETIME', 'ENTRIES_DIFF']]\n",
    "#print data_dt_entries.describe()"
   ]
  },
  {
   "cell_type": "code",
   "execution_count": 17,
   "metadata": {
    "collapsed": false
   },
   "outputs": [
    {
     "data": {
      "text/html": [
       "<div>\n",
       "<table border=\"1\" class=\"dataframe\">\n",
       "  <thead>\n",
       "    <tr style=\"text-align: right;\">\n",
       "      <th></th>\n",
       "      <th>STATION</th>\n",
       "      <th>DATETIME</th>\n",
       "      <th>ENTRIES_DIFF</th>\n",
       "      <th>DAY</th>\n",
       "      <th>TIME</th>\n",
       "    </tr>\n",
       "  </thead>\n",
       "  <tbody>\n",
       "    <tr>\n",
       "      <th>0</th>\n",
       "      <td>1 AVE</td>\n",
       "      <td>2015-04-25 04:00:00</td>\n",
       "      <td>3.0</td>\n",
       "      <td>5</td>\n",
       "      <td>04:00:00</td>\n",
       "    </tr>\n",
       "    <tr>\n",
       "      <th>1</th>\n",
       "      <td>1 AVE</td>\n",
       "      <td>2015-04-25 08:00:00</td>\n",
       "      <td>2.0</td>\n",
       "      <td>5</td>\n",
       "      <td>08:00:00</td>\n",
       "    </tr>\n",
       "    <tr>\n",
       "      <th>2</th>\n",
       "      <td>1 AVE</td>\n",
       "      <td>2015-04-25 12:00:00</td>\n",
       "      <td>2.0</td>\n",
       "      <td>5</td>\n",
       "      <td>12:00:00</td>\n",
       "    </tr>\n",
       "    <tr>\n",
       "      <th>3</th>\n",
       "      <td>1 AVE</td>\n",
       "      <td>2015-04-25 16:00:00</td>\n",
       "      <td>4.0</td>\n",
       "      <td>5</td>\n",
       "      <td>16:00:00</td>\n",
       "    </tr>\n",
       "    <tr>\n",
       "      <th>4</th>\n",
       "      <td>1 AVE</td>\n",
       "      <td>2015-04-25 20:00:00</td>\n",
       "      <td>0.0</td>\n",
       "      <td>5</td>\n",
       "      <td>20:00:00</td>\n",
       "    </tr>\n",
       "  </tbody>\n",
       "</table>\n",
       "</div>"
      ],
      "text/plain": [
       "  STATION            DATETIME  ENTRIES_DIFF  DAY      TIME\n",
       "0   1 AVE 2015-04-25 04:00:00           3.0    5  04:00:00\n",
       "1   1 AVE 2015-04-25 08:00:00           2.0    5  08:00:00\n",
       "2   1 AVE 2015-04-25 12:00:00           2.0    5  12:00:00\n",
       "3   1 AVE 2015-04-25 16:00:00           4.0    5  16:00:00\n",
       "4   1 AVE 2015-04-25 20:00:00           0.0    5  20:00:00"
      ]
     },
     "execution_count": 17,
     "metadata": {},
     "output_type": "execute_result"
    }
   ],
   "source": [
    "data_dt_entries['DAY'] = data_dt_entries['DATETIME'].dt.dayofweek\n",
    "data_dt_entries['TIME'] = data_dt_entries['DATETIME'].dt.time\n",
    "data_dt_entries.head()"
   ]
  },
  {
   "cell_type": "code",
   "execution_count": 18,
   "metadata": {
    "collapsed": false
   },
   "outputs": [
    {
     "data": {
      "text/plain": [
       "STATION  DAY  TIME    \n",
       "1 AVE    0    00:00:00     846.000000\n",
       "              04:00:00     381.666667\n",
       "              08:00:00    1450.333333\n",
       "              12:00:00    4828.000000\n",
       "              16:00:00    4641.666667\n",
       "              20:00:00    6295.000000\n",
       "         1    00:00:00    3126.666667\n",
       "Name: ENTRIES_DIFF, dtype: float64"
      ]
     },
     "execution_count": 18,
     "metadata": {},
     "output_type": "execute_result"
    }
   ],
   "source": [
    "stations_dt_entries = data_dt_entries.groupby(['STATION','DAY','TIME'])\n",
    "stations_dt_entries = stations_dt_entries['ENTRIES_DIFF'].mean()\n",
    "stations_dt_entries.head(7)"
   ]
  },
  {
   "cell_type": "markdown",
   "metadata": {},
   "source": [
    "## Top 100 Stations"
   ]
  },
  {
   "cell_type": "code",
   "execution_count": 19,
   "metadata": {
    "collapsed": false
   },
   "outputs": [],
   "source": [
    "top_100_entries = rounded_times[ (rounded_times['ENTRIES_DIFF'] >= 0) & (rounded_times['ENTRIES_DIFF'] < 1000000)]\n",
    "top_100_entries = top_100_entries.groupby(['STATION'])\n",
    "top_100_entries = top_100_entries['ENTRIES_DIFF','EXITS_DIFF'].sum().sort_values(by='ENTRIES_DIFF', ascending=0)\n",
    "top_100_entries = top_100_entries[:100].reset_index()\n",
    "stations_entries = top_100_entries['STATION']\n",
    "#print stations_entries"
   ]
  },
  {
   "cell_type": "code",
   "execution_count": 20,
   "metadata": {
    "collapsed": false,
    "scrolled": true
   },
   "outputs": [
    {
     "name": "stdout",
     "output_type": "stream",
     "text": [
      "34 ST-PENN STA\n",
      "42 ST-GRD CNTRL\n",
      "34 ST-HERALD SQ\n",
      "86 ST\n",
      "14 ST-UNION SQ\n",
      "42 ST-TIMES SQ\n",
      "42 ST-PA BUS TE\n",
      "96 ST\n",
      "59 ST-COLUMBUS\n",
      "FULTON ST\n",
      "CANAL ST\n",
      "125 ST\n",
      "CHAMBERS ST\n",
      "23 ST\n",
      "59 ST\n",
      "MAIN ST\n",
      "47-50 ST-ROCK\n",
      "72 ST\n",
      "ROOSEVELT AVE\n",
      "50 ST\n"
     ]
    },
    {
     "name": "stderr",
     "output_type": "stream",
     "text": [
      "/home/lucia/anaconda2/lib/python2.7/site-packages/matplotlib/pyplot.py:516: RuntimeWarning: More than 20 figures have been opened. Figures created through the pyplot interface (`matplotlib.pyplot.figure`) are retained until explicitly closed and may consume too much memory. (To control this warning, see the rcParam `figure.max_open_warning`).\n",
      "  max_open_warning, RuntimeWarning)\n"
     ]
    },
    {
     "name": "stdout",
     "output_type": "stream",
     "text": [
      "W 4 ST-WASH SQ\n",
      "WALL ST\n",
      "BARCLAYS CENTER\n",
      "PATH WTC\n",
      "JAY ST-METROTEC\n",
      "14 ST\n",
      "JAMAICA CENTER\n",
      "77 ST\n",
      "145 ST\n",
      "149 ST-GR CONC\n",
      "8 AVE\n",
      "CHURCH AVE\n",
      "42 ST-BRYANT PK\n",
      "LEXINGTON-53 ST\n",
      "BOROUGH HALL/CT\n",
      "116 ST\n",
      "28 ST\n",
      "GRAND ST\n",
      "JOURNAL SQUARE\n",
      "68ST-HUNTER COL\n",
      "MYRTLE AVE\n",
      "BOWLING GREEN\n",
      "SUTPHIN BLVD\n",
      "9TH STREET\n",
      "33 ST\n",
      "JFK JAMAICA CT1\n",
      "DEKALB AVE\n",
      "CROWN HTS-UTICA\n",
      "FOREST HILLS-71\n",
      "KINGS HIGHWAY\n",
      "103 ST\n",
      "WOODHAVEN BLVD\n",
      "161 ST-YANKEE\n",
      "UNION TPK-KEW G\n",
      "LEXINGTON AVE\n",
      "23 ST-5 AVE\n",
      "168 ST-BROADWAY\n",
      "BROADWAY/LAFAY\n",
      "FORDHAM ROAD\n",
      "66 ST-LINCOLN\n",
      "49 ST-7 AVE\n",
      "5 AVE-53 ST\n",
      "181 ST\n",
      "79 ST\n",
      "SPRING ST\n",
      "23 ST-6 AVE\n",
      "NOSTRAND AVE\n",
      "THIRTY THIRD ST\n",
      "HARRISON\n",
      "JUNCTION BLVD\n",
      "135 ST\n",
      "JAMAICA-179 ST\n",
      "BEDFORD AVE\n",
      "103 ST-CORONA\n",
      "167 ST\n",
      "149 ST-3 AVE\n",
      "1 AVE\n",
      "5 AVE-59 ST\n",
      "14 ST-6 AVE\n",
      "2 AVE\n",
      "8 ST-B'WAY NYU\n",
      "KINGSBRIDGE RD\n",
      "51 ST\n",
      "STILLWELL AVE\n",
      "PAVONIA/NEWPORT\n",
      "BROOKLYN BRIDGE\n",
      "36 ST\n",
      "DITMARS BL-31 S\n",
      "DELANCEY ST\n",
      "90 ST-ELMHURST\n",
      "61 ST/WOODSIDE\n",
      "FT HAMILTON PKY\n",
      "FLATBUSH AVE\n",
      "ASTOR PLACE\n",
      "PRINCE ST-B'WAY\n",
      "RECTOR ST\n",
      "170 ST\n",
      "7 AVE-53 ST\n",
      "63 DR-REGO PARK\n",
      "E 177 ST-PARKCH\n"
     ]
    },
    {
     "data": {
      "text/plain": [
       "<matplotlib.figure.Figure at 0x7f413012d410>"
      ]
     },
     "metadata": {},
     "output_type": "display_data"
    },
    {
     "data": {
      "text/plain": [
       "<matplotlib.figure.Figure at 0x7f412bd38c50>"
      ]
     },
     "metadata": {},
     "output_type": "display_data"
    },
    {
     "data": {
      "text/plain": [
       "<matplotlib.figure.Figure at 0x7f412bd38950>"
      ]
     },
     "metadata": {},
     "output_type": "display_data"
    },
    {
     "data": {
      "text/plain": [
       "<matplotlib.figure.Figure at 0x7f412c604f50>"
      ]
     },
     "metadata": {},
     "output_type": "display_data"
    },
    {
     "data": {
      "text/plain": [
       "<matplotlib.figure.Figure at 0x7f412c5d8190>"
      ]
     },
     "metadata": {},
     "output_type": "display_data"
    },
    {
     "data": {
      "text/plain": [
       "<matplotlib.figure.Figure at 0x7f412c41c510>"
      ]
     },
     "metadata": {},
     "output_type": "display_data"
    },
    {
     "data": {
      "text/plain": [
       "<matplotlib.figure.Figure at 0x7f412c3d1690>"
      ]
     },
     "metadata": {},
     "output_type": "display_data"
    },
    {
     "data": {
      "text/plain": [
       "<matplotlib.figure.Figure at 0x7f412c1d1a50>"
      ]
     },
     "metadata": {},
     "output_type": "display_data"
    },
    {
     "data": {
      "text/plain": [
       "<matplotlib.figure.Figure at 0x7f412c1f34d0>"
      ]
     },
     "metadata": {},
     "output_type": "display_data"
    },
    {
     "data": {
      "text/plain": [
       "<matplotlib.figure.Figure at 0x7f412bf46850>"
      ]
     },
     "metadata": {},
     "output_type": "display_data"
    },
    {
     "data": {
      "text/plain": [
       "<matplotlib.figure.Figure at 0x7f412c05a9d0>"
      ]
     },
     "metadata": {},
     "output_type": "display_data"
    },
    {
     "data": {
      "text/plain": [
       "<matplotlib.figure.Figure at 0x7f412c2b3510>"
      ]
     },
     "metadata": {},
     "output_type": "display_data"
    },
    {
     "data": {
      "text/plain": [
       "<matplotlib.figure.Figure at 0x7f412c35f4d0>"
      ]
     },
     "metadata": {},
     "output_type": "display_data"
    },
    {
     "data": {
      "text/plain": [
       "<matplotlib.figure.Figure at 0x7f412c3a7890>"
      ]
     },
     "metadata": {},
     "output_type": "display_data"
    },
    {
     "data": {
      "text/plain": [
       "<matplotlib.figure.Figure at 0x7f412c0b1090>"
      ]
     },
     "metadata": {},
     "output_type": "display_data"
    },
    {
     "data": {
      "text/plain": [
       "<matplotlib.figure.Figure at 0x7f412c449690>"
      ]
     },
     "metadata": {},
     "output_type": "display_data"
    },
    {
     "data": {
      "text/plain": [
       "<matplotlib.figure.Figure at 0x7f412c55c650>"
      ]
     },
     "metadata": {},
     "output_type": "display_data"
    },
    {
     "data": {
      "text/plain": [
       "<matplotlib.figure.Figure at 0x7f412c0f6890>"
      ]
     },
     "metadata": {},
     "output_type": "display_data"
    },
    {
     "data": {
      "text/plain": [
       "<matplotlib.figure.Figure at 0x7f412c4a3050>"
      ]
     },
     "metadata": {},
     "output_type": "display_data"
    },
    {
     "data": {
      "text/plain": [
       "<matplotlib.figure.Figure at 0x7f412c147190>"
      ]
     },
     "metadata": {},
     "output_type": "display_data"
    },
    {
     "data": {
      "text/plain": [
       "<matplotlib.figure.Figure at 0x7f412c1c7250>"
      ]
     },
     "metadata": {},
     "output_type": "display_data"
    },
    {
     "data": {
      "text/plain": [
       "<matplotlib.figure.Figure at 0x7f412c255490>"
      ]
     },
     "metadata": {},
     "output_type": "display_data"
    },
    {
     "data": {
      "text/plain": [
       "<matplotlib.figure.Figure at 0x7f412bfa51d0>"
      ]
     },
     "metadata": {},
     "output_type": "display_data"
    },
    {
     "data": {
      "text/plain": [
       "<matplotlib.figure.Figure at 0x7f412c0bf310>"
      ]
     },
     "metadata": {},
     "output_type": "display_data"
    },
    {
     "data": {
      "text/plain": [
       "<matplotlib.figure.Figure at 0x7f412c1850d0>"
      ]
     },
     "metadata": {},
     "output_type": "display_data"
    },
    {
     "data": {
      "text/plain": [
       "<matplotlib.figure.Figure at 0x7f412bdebb90>"
      ]
     },
     "metadata": {},
     "output_type": "display_data"
    },
    {
     "data": {
      "text/plain": [
       "<matplotlib.figure.Figure at 0x7f412c280950>"
      ]
     },
     "metadata": {},
     "output_type": "display_data"
    },
    {
     "data": {
      "text/plain": [
       "<matplotlib.figure.Figure at 0x7f412c39a6d0>"
      ]
     },
     "metadata": {},
     "output_type": "display_data"
    },
    {
     "data": {
      "text/plain": [
       "<matplotlib.figure.Figure at 0x7f412c3c2990>"
      ]
     },
     "metadata": {},
     "output_type": "display_data"
    },
    {
     "data": {
      "text/plain": [
       "<matplotlib.figure.Figure at 0x7f412c2b7250>"
      ]
     },
     "metadata": {},
     "output_type": "display_data"
    },
    {
     "data": {
      "text/plain": [
       "<matplotlib.figure.Figure at 0x7f412c186310>"
      ]
     },
     "metadata": {},
     "output_type": "display_data"
    },
    {
     "data": {
      "text/plain": [
       "<matplotlib.figure.Figure at 0x7f412be7e990>"
      ]
     },
     "metadata": {},
     "output_type": "display_data"
    },
    {
     "data": {
      "text/plain": [
       "<matplotlib.figure.Figure at 0x7f412c55ce50>"
      ]
     },
     "metadata": {},
     "output_type": "display_data"
    },
    {
     "data": {
      "text/plain": [
       "<matplotlib.figure.Figure at 0x7f412bf79390>"
      ]
     },
     "metadata": {},
     "output_type": "display_data"
    },
    {
     "data": {
      "text/plain": [
       "<matplotlib.figure.Figure at 0x7f412c5370d0>"
      ]
     },
     "metadata": {},
     "output_type": "display_data"
    },
    {
     "data": {
      "text/plain": [
       "<matplotlib.figure.Figure at 0x7f412c366290>"
      ]
     },
     "metadata": {},
     "output_type": "display_data"
    },
    {
     "data": {
      "text/plain": [
       "<matplotlib.figure.Figure at 0x7f412c4021d0>"
      ]
     },
     "metadata": {},
     "output_type": "display_data"
    },
    {
     "data": {
      "text/plain": [
       "<matplotlib.figure.Figure at 0x7f412c3924d0>"
      ]
     },
     "metadata": {},
     "output_type": "display_data"
    },
    {
     "data": {
      "text/plain": [
       "<matplotlib.figure.Figure at 0x7f412c0d8590>"
      ]
     },
     "metadata": {},
     "output_type": "display_data"
    },
    {
     "data": {
      "text/plain": [
       "<matplotlib.figure.Figure at 0x7f412bf29a90>"
      ]
     },
     "metadata": {},
     "output_type": "display_data"
    },
    {
     "data": {
      "text/plain": [
       "<matplotlib.figure.Figure at 0x7f412c0bdd10>"
      ]
     },
     "metadata": {},
     "output_type": "display_data"
    },
    {
     "data": {
      "text/plain": [
       "<matplotlib.figure.Figure at 0x7f4130120dd0>"
      ]
     },
     "metadata": {},
     "output_type": "display_data"
    },
    {
     "data": {
      "text/plain": [
       "<matplotlib.figure.Figure at 0x7f412c53a750>"
      ]
     },
     "metadata": {},
     "output_type": "display_data"
    },
    {
     "data": {
      "text/plain": [
       "<matplotlib.figure.Figure at 0x7f412c190110>"
      ]
     },
     "metadata": {},
     "output_type": "display_data"
    },
    {
     "data": {
      "text/plain": [
       "<matplotlib.figure.Figure at 0x7f412be2f610>"
      ]
     },
     "metadata": {},
     "output_type": "display_data"
    },
    {
     "data": {
      "text/plain": [
       "<matplotlib.figure.Figure at 0x7f412bfc1850>"
      ]
     },
     "metadata": {},
     "output_type": "display_data"
    },
    {
     "data": {
      "text/plain": [
       "<matplotlib.figure.Figure at 0x7f412c547510>"
      ]
     },
     "metadata": {},
     "output_type": "display_data"
    },
    {
     "data": {
      "text/plain": [
       "<matplotlib.figure.Figure at 0x7f412c2bcfd0>"
      ]
     },
     "metadata": {},
     "output_type": "display_data"
    },
    {
     "data": {
      "text/plain": [
       "<matplotlib.figure.Figure at 0x7f412b4af290>"
      ]
     },
     "metadata": {},
     "output_type": "display_data"
    },
    {
     "data": {
      "text/plain": [
       "<matplotlib.figure.Figure at 0x7f412c1867d0>"
      ]
     },
     "metadata": {},
     "output_type": "display_data"
    },
    {
     "data": {
      "text/plain": [
       "<matplotlib.figure.Figure at 0x7f412c548510>"
      ]
     },
     "metadata": {},
     "output_type": "display_data"
    },
    {
     "data": {
      "text/plain": [
       "<matplotlib.figure.Figure at 0x7f412b051c10>"
      ]
     },
     "metadata": {},
     "output_type": "display_data"
    },
    {
     "data": {
      "text/plain": [
       "<matplotlib.figure.Figure at 0x7f412c53a950>"
      ]
     },
     "metadata": {},
     "output_type": "display_data"
    },
    {
     "data": {
      "text/plain": [
       "<matplotlib.figure.Figure at 0x7f412c392a10>"
      ]
     },
     "metadata": {},
     "output_type": "display_data"
    },
    {
     "data": {
      "text/plain": [
       "<matplotlib.figure.Figure at 0x7f412c255610>"
      ]
     },
     "metadata": {},
     "output_type": "display_data"
    },
    {
     "data": {
      "text/plain": [
       "<matplotlib.figure.Figure at 0x7f412c62b510>"
      ]
     },
     "metadata": {},
     "output_type": "display_data"
    },
    {
     "data": {
      "text/plain": [
       "<matplotlib.figure.Figure at 0x7f412c4ac6d0>"
      ]
     },
     "metadata": {},
     "output_type": "display_data"
    },
    {
     "data": {
      "text/plain": [
       "<matplotlib.figure.Figure at 0x7f412c1ff5d0>"
      ]
     },
     "metadata": {},
     "output_type": "display_data"
    },
    {
     "data": {
      "text/plain": [
       "<matplotlib.figure.Figure at 0x7f412c3358d0>"
      ]
     },
     "metadata": {},
     "output_type": "display_data"
    },
    {
     "data": {
      "text/plain": [
       "<matplotlib.figure.Figure at 0x7f412bf19990>"
      ]
     },
     "metadata": {},
     "output_type": "display_data"
    },
    {
     "data": {
      "text/plain": [
       "<matplotlib.figure.Figure at 0x7f412bed5510>"
      ]
     },
     "metadata": {},
     "output_type": "display_data"
    },
    {
     "data": {
      "text/plain": [
       "<matplotlib.figure.Figure at 0x7f412c490d90>"
      ]
     },
     "metadata": {},
     "output_type": "display_data"
    },
    {
     "data": {
      "text/plain": [
       "<matplotlib.figure.Figure at 0x7f412bed57d0>"
      ]
     },
     "metadata": {},
     "output_type": "display_data"
    },
    {
     "data": {
      "text/plain": [
       "<matplotlib.figure.Figure at 0x7f412c499c50>"
      ]
     },
     "metadata": {},
     "output_type": "display_data"
    },
    {
     "data": {
      "text/plain": [
       "<matplotlib.figure.Figure at 0x7f412c348f90>"
      ]
     },
     "metadata": {},
     "output_type": "display_data"
    },
    {
     "data": {
      "text/plain": [
       "<matplotlib.figure.Figure at 0x7f412c5223d0>"
      ]
     },
     "metadata": {},
     "output_type": "display_data"
    },
    {
     "data": {
      "text/plain": [
       "<matplotlib.figure.Figure at 0x7f412c545510>"
      ]
     },
     "metadata": {},
     "output_type": "display_data"
    },
    {
     "data": {
      "text/plain": [
       "<matplotlib.figure.Figure at 0x7f412c5757d0>"
      ]
     },
     "metadata": {},
     "output_type": "display_data"
    },
    {
     "data": {
      "text/plain": [
       "<matplotlib.figure.Figure at 0x7f412b43a610>"
      ]
     },
     "metadata": {},
     "output_type": "display_data"
    },
    {
     "data": {
      "text/plain": [
       "<matplotlib.figure.Figure at 0x7f412bf29cd0>"
      ]
     },
     "metadata": {},
     "output_type": "display_data"
    },
    {
     "data": {
      "text/plain": [
       "<matplotlib.figure.Figure at 0x7f412c43b050>"
      ]
     },
     "metadata": {},
     "output_type": "display_data"
    },
    {
     "data": {
      "text/plain": [
       "<matplotlib.figure.Figure at 0x7f412c27c650>"
      ]
     },
     "metadata": {},
     "output_type": "display_data"
    },
    {
     "data": {
      "text/plain": [
       "<matplotlib.figure.Figure at 0x7f412c478510>"
      ]
     },
     "metadata": {},
     "output_type": "display_data"
    },
    {
     "data": {
      "text/plain": [
       "<matplotlib.figure.Figure at 0x7f412b4af150>"
      ]
     },
     "metadata": {},
     "output_type": "display_data"
    },
    {
     "data": {
      "text/plain": [
       "<matplotlib.figure.Figure at 0x7f412be010d0>"
      ]
     },
     "metadata": {},
     "output_type": "display_data"
    },
    {
     "data": {
      "text/plain": [
       "<matplotlib.figure.Figure at 0x7f412b3fc5d0>"
      ]
     },
     "metadata": {},
     "output_type": "display_data"
    },
    {
     "data": {
      "text/plain": [
       "<matplotlib.figure.Figure at 0x7f412c37fd10>"
      ]
     },
     "metadata": {},
     "output_type": "display_data"
    },
    {
     "data": {
      "text/plain": [
       "<matplotlib.figure.Figure at 0x7f412c4861d0>"
      ]
     },
     "metadata": {},
     "output_type": "display_data"
    },
    {
     "data": {
      "text/plain": [
       "<matplotlib.figure.Figure at 0x7f412c237150>"
      ]
     },
     "metadata": {},
     "output_type": "display_data"
    },
    {
     "data": {
      "text/plain": [
       "<matplotlib.figure.Figure at 0x7f412c17b890>"
      ]
     },
     "metadata": {},
     "output_type": "display_data"
    },
    {
     "data": {
      "text/plain": [
       "<matplotlib.figure.Figure at 0x7f412be93b50>"
      ]
     },
     "metadata": {},
     "output_type": "display_data"
    },
    {
     "data": {
      "text/plain": [
       "<matplotlib.figure.Figure at 0x7f412c3d7c50>"
      ]
     },
     "metadata": {},
     "output_type": "display_data"
    },
    {
     "data": {
      "text/plain": [
       "<matplotlib.figure.Figure at 0x7f412bea3ad0>"
      ]
     },
     "metadata": {},
     "output_type": "display_data"
    },
    {
     "data": {
      "text/plain": [
       "<matplotlib.figure.Figure at 0x7f412b36f9d0>"
      ]
     },
     "metadata": {},
     "output_type": "display_data"
    },
    {
     "data": {
      "text/plain": [
       "<matplotlib.figure.Figure at 0x7f412b499d50>"
      ]
     },
     "metadata": {},
     "output_type": "display_data"
    },
    {
     "data": {
      "text/plain": [
       "<matplotlib.figure.Figure at 0x7f412c5d8b50>"
      ]
     },
     "metadata": {},
     "output_type": "display_data"
    },
    {
     "data": {
      "text/plain": [
       "<matplotlib.figure.Figure at 0x7f412c302050>"
      ]
     },
     "metadata": {},
     "output_type": "display_data"
    },
    {
     "data": {
      "text/plain": [
       "<matplotlib.figure.Figure at 0x7f412c1a2690>"
      ]
     },
     "metadata": {},
     "output_type": "display_data"
    },
    {
     "data": {
      "text/plain": [
       "<matplotlib.figure.Figure at 0x7f412b4dd9d0>"
      ]
     },
     "metadata": {},
     "output_type": "display_data"
    },
    {
     "data": {
      "text/plain": [
       "<matplotlib.figure.Figure at 0x7f412b4076d0>"
      ]
     },
     "metadata": {},
     "output_type": "display_data"
    },
    {
     "data": {
      "text/plain": [
       "<matplotlib.figure.Figure at 0x7f412bd69550>"
      ]
     },
     "metadata": {},
     "output_type": "display_data"
    },
    {
     "data": {
      "text/plain": [
       "<matplotlib.figure.Figure at 0x7f412bda1fd0>"
      ]
     },
     "metadata": {},
     "output_type": "display_data"
    },
    {
     "data": {
      "text/plain": [
       "<matplotlib.figure.Figure at 0x7f412b2f03d0>"
      ]
     },
     "metadata": {},
     "output_type": "display_data"
    },
    {
     "data": {
      "text/plain": [
       "<matplotlib.figure.Figure at 0x7f412c3d4fd0>"
      ]
     },
     "metadata": {},
     "output_type": "display_data"
    },
    {
     "data": {
      "text/plain": [
       "<matplotlib.figure.Figure at 0x7f412b3da150>"
      ]
     },
     "metadata": {},
     "output_type": "display_data"
    },
    {
     "data": {
      "text/plain": [
       "<matplotlib.figure.Figure at 0x7f412c1ff590>"
      ]
     },
     "metadata": {},
     "output_type": "display_data"
    },
    {
     "data": {
      "text/plain": [
       "<matplotlib.figure.Figure at 0x7f412bed6750>"
      ]
     },
     "metadata": {},
     "output_type": "display_data"
    },
    {
     "data": {
      "text/plain": [
       "<matplotlib.figure.Figure at 0x7f412c348950>"
      ]
     },
     "metadata": {},
     "output_type": "display_data"
    },
    {
     "data": {
      "text/plain": [
       "<matplotlib.figure.Figure at 0x7f412c274ed0>"
      ]
     },
     "metadata": {},
     "output_type": "display_data"
    },
    {
     "data": {
      "text/plain": [
       "<matplotlib.figure.Figure at 0x7f412c4f5c50>"
      ]
     },
     "metadata": {},
     "output_type": "display_data"
    },
    {
     "data": {
      "image/png": "[encoded data removed]",
      "text/plain": [
       "<matplotlib.figure.Figure at 0x7f412b3a1410>"
      ]
     },
     "metadata": {},
     "output_type": "display_data"
    }
   ],
   "source": [
    "#station = '1 AVE' 14 ST-UNION SQ\n",
    "#station = '34 ST-PENN STA'\n",
    "#for station in ['34 ST-PENN STA']:\n",
    "for station in stations_entries:\n",
    "    print station\n",
    "    one_station = data_dt_entries[ data_dt_entries['STATION'] == station ]\n",
    "    #print one_station.head()\n",
    "    #print one_station.describe()\n",
    "    one_groupby = one_station.groupby(['DAY','TIME'])\n",
    "    one_dt = one_groupby['ENTRIES_DIFF'].mean().reset_index()\n",
    "    #print one_dt.describe()\n",
    "    # changing format of the pandas data frame from three-columns to 2-column indices and third-column as values\n",
    "    # of a matrix\n",
    "    one_dt_heatmap = one_dt.set_index(['DAY', 'TIME']).ENTRIES_DIFF.unstack(0)\n",
    "    days_mapper = {0:'Mon',1:'Tues',2:'Weds',3:'Thurs',4:'Fri',5:'Sat',6:'Sun'}\n",
    "    one_dt_heatmap.columns = [days_mapper[c] for c in one_dt_heatmap.columns]\n",
    "    plt.clf()\n",
    "    matplotlib.rc('xtick', labelsize=25) \n",
    "    matplotlib.rc('ytick', labelsize=25) \n",
    "    plt.figure(figsize = (30,15))\n",
    "    plt.title('ENTRIES : ' + station, fontsize=50, color='grey', fontweight='bold')\n",
    "    plt.xlabel('DAY',fontsize=30)\n",
    "    plt.ylabel('TIME',fontsize=30)\n",
    "    #x = range(0,7,1)\n",
    "    #xLabel = np.array(['Monday', 'Tuesday', 'Wednesday', 'Thursday', 'Friday', 'Saturday', 'Sunday'])\n",
    "    #plt.xticks(x,xLabel)\n",
    "    #fig, ax = plt.subplots(figsize=[25,10])\n",
    "    sns.heatmap(one_dt_heatmap)\n",
    "    stationpath = station\n",
    "    stationdict = {'BOROUGH HALL/CT': 'BOROUGH HALL-CT',\n",
    "                   'HOYT/SCHERMER' : 'HOYT-SCHERMER', \n",
    "                   'BEDFORD/NOSTRAN' : 'BEDFORD-NOSTRAN',\n",
    "                   'VERNON/JACKSON': 'VERNON-JACKSON',\n",
    "                   '33 ST/RAWSON ST': '33 ST-RAWSON ST',\n",
    "                   'BROADWAY/LAFAY' : 'BROADWAY-LAFAY',\n",
    "                   'PAVONIA/NEWPORT' : 'PAVONIA-NEWPORT',\n",
    "                   '61 ST/WOODSIDE' : '61 ST-WOODSIDE'}\n",
    "    if station in stationdict:\n",
    "        stationpath = stationdict[station]\n",
    "    path = \"entries/heatmap_\" + stationpath + \".png\"\n",
    "    plt.savefig(path)"
   ]
  },
  {
   "cell_type": "markdown",
   "metadata": {},
   "source": [
    "# Finding Max Exits Stations"
   ]
  },
  {
   "cell_type": "code",
   "execution_count": 21,
   "metadata": {
    "collapsed": false
   },
   "outputs": [
    {
     "name": "stdout",
     "output_type": "stream",
     "text": [
      "                 ENTRIES_DIFF  EXITS_DIFF\n",
      "STATION                                  \n",
      "34 ST-PENN STA      6388309.0   5517451.0\n",
      "42 ST-GRD CNTRL     5421175.0   5054367.0\n",
      "34 ST-HERALD SQ     4359345.0   4116555.0\n",
      "14 ST-UNION SQ      4133901.0   3696293.0\n",
      "86 ST               4303861.0   3391643.0\n",
      "42 ST-TIMES SQ      3709823.0   3391320.0\n",
      "42 ST-PA BUS TE     3145886.0   2819216.0\n",
      "125 ST              2672914.0   2490402.0\n",
      "FULTON ST           2750483.0   2370208.0\n",
      "59 ST-COLUMBUS      2802928.0   2260833.0\n",
      "47-50 ST-ROCK       2102758.0   2174243.0\n",
      "CANAL ST            2704407.0   2134621.0\n",
      "96 ST               3028903.0   2016287.0\n",
      "59 ST               2410684.0   1992695.0\n",
      "23 ST               2470256.0   1898957.0\n",
      "MAIN ST             2267407.0   1887297.0\n",
      "PATH WTC            1627036.0   1700561.0\n",
      "LEXINGTON-53 ST     1441833.0   1657666.0\n",
      "W 4 ST-WASH SQ      1721922.0   1655868.0\n",
      "CHAMBERS ST         2603996.0   1590609.0\n"
     ]
    }
   ],
   "source": [
    "top_20_exits = rounded_times[ (rounded_times['ENTRIES_DIFF'] >= 0) & (rounded_times['ENTRIES_DIFF'] < 1000000)]\n",
    "top_20_exits = top_20_exits.groupby(['STATION'])\n",
    "top_20_exits = top_20_exits['ENTRIES_DIFF','EXITS_DIFF'].sum().sort_values(by='EXITS_DIFF', ascending=0)\n",
    "top_20_exits = top_20_exits[:20]\n",
    "print top_20_exits"
   ]
  },
  {
   "cell_type": "code",
   "execution_count": 22,
   "metadata": {
    "collapsed": false
   },
   "outputs": [
    {
     "data": {
      "image/png": "[encoded data removed]",
      "text/plain": [
       "<matplotlib.figure.Figure at 0x7f412c023bd0>"
      ]
     },
     "metadata": {},
     "output_type": "display_data"
    }
   ],
   "source": [
    "top_20_exits_vals = top_20_exits.EXITS_DIFF\n",
    "matplotlib.rc('xtick', labelsize=25) \n",
    "matplotlib.rc('ytick', labelsize=25) \n",
    "plt.figure(figsize = (30,15))\n",
    "plt.title('Top 20 Stations by Total Exits (April-June 2015)',fontsize=50, color='grey', fontweight='bold')\n",
    "plt.xlabel('EXITS',fontsize=30)\n",
    "plt.ylabel('Station',fontsize=30)\n",
    "#fig, ax = plt.subplots(figsize=[25,10])\n",
    "top_20_exits_vals.sort_values(ascending=True).plot(kind='barh', color ='#63d297')\n",
    "path = \"exits/top_20_exits_stations.png\"\n",
    "plt.savefig(path)"
   ]
  },
  {
   "cell_type": "markdown",
   "metadata": {},
   "source": [
    "# Station Exits Day Time Heatmap"
   ]
  },
  {
   "cell_type": "code",
   "execution_count": 23,
   "metadata": {
    "collapsed": false
   },
   "outputs": [],
   "source": [
    "data_dt_exits = rounded_times[ (rounded_times['ENTRIES_DIFF'] >= 0) & (rounded_times['ENTRIES_DIFF'] < 1000000)]\n",
    "data_dt_exits = data_dt_exits[['STATION', 'DATETIME', 'EXITS_DIFF']]\n",
    "#print data_dt_entries.describe()"
   ]
  },
  {
   "cell_type": "code",
   "execution_count": 24,
   "metadata": {
    "collapsed": false
   },
   "outputs": [
    {
     "data": {
      "text/html": [
       "<div>\n",
       "<table border=\"1\" class=\"dataframe\">\n",
       "  <thead>\n",
       "    <tr style=\"text-align: right;\">\n",
       "      <th></th>\n",
       "      <th>STATION</th>\n",
       "      <th>DATETIME</th>\n",
       "      <th>EXITS_DIFF</th>\n",
       "      <th>DAY</th>\n",
       "      <th>TIME</th>\n",
       "    </tr>\n",
       "  </thead>\n",
       "  <tbody>\n",
       "    <tr>\n",
       "      <th>0</th>\n",
       "      <td>1 AVE</td>\n",
       "      <td>2015-04-25 04:00:00</td>\n",
       "      <td>76.0</td>\n",
       "      <td>5</td>\n",
       "      <td>04:00:00</td>\n",
       "    </tr>\n",
       "    <tr>\n",
       "      <th>1</th>\n",
       "      <td>1 AVE</td>\n",
       "      <td>2015-04-25 08:00:00</td>\n",
       "      <td>53.0</td>\n",
       "      <td>5</td>\n",
       "      <td>08:00:00</td>\n",
       "    </tr>\n",
       "    <tr>\n",
       "      <th>2</th>\n",
       "      <td>1 AVE</td>\n",
       "      <td>2015-04-25 12:00:00</td>\n",
       "      <td>54.0</td>\n",
       "      <td>5</td>\n",
       "      <td>12:00:00</td>\n",
       "    </tr>\n",
       "    <tr>\n",
       "      <th>3</th>\n",
       "      <td>1 AVE</td>\n",
       "      <td>2015-04-25 16:00:00</td>\n",
       "      <td>57.0</td>\n",
       "      <td>5</td>\n",
       "      <td>16:00:00</td>\n",
       "    </tr>\n",
       "    <tr>\n",
       "      <th>4</th>\n",
       "      <td>1 AVE</td>\n",
       "      <td>2015-04-25 20:00:00</td>\n",
       "      <td>41.0</td>\n",
       "      <td>5</td>\n",
       "      <td>20:00:00</td>\n",
       "    </tr>\n",
       "  </tbody>\n",
       "</table>\n",
       "</div>"
      ],
      "text/plain": [
       "  STATION            DATETIME  EXITS_DIFF  DAY      TIME\n",
       "0   1 AVE 2015-04-25 04:00:00        76.0    5  04:00:00\n",
       "1   1 AVE 2015-04-25 08:00:00        53.0    5  08:00:00\n",
       "2   1 AVE 2015-04-25 12:00:00        54.0    5  12:00:00\n",
       "3   1 AVE 2015-04-25 16:00:00        57.0    5  16:00:00\n",
       "4   1 AVE 2015-04-25 20:00:00        41.0    5  20:00:00"
      ]
     },
     "execution_count": 24,
     "metadata": {},
     "output_type": "execute_result"
    }
   ],
   "source": [
    "data_dt_exits['DAY'] = data_dt_exits['DATETIME'].dt.dayofweek\n",
    "data_dt_exits['TIME'] = data_dt_exits['DATETIME'].dt.time\n",
    "data_dt_exits.head()"
   ]
  },
  {
   "cell_type": "code",
   "execution_count": 25,
   "metadata": {
    "collapsed": false
   },
   "outputs": [
    {
     "data": {
      "text/plain": [
       "STATION  DAY  TIME    \n",
       "1 AVE    0    00:00:00     976.833333\n",
       "              04:00:00     399.666667\n",
       "              08:00:00    2681.000000\n",
       "              12:00:00    5285.166667\n",
       "              16:00:00    4036.500000\n",
       "              20:00:00    6307.333333\n",
       "         1    00:00:00    3323.666667\n",
       "Name: EXITS_DIFF, dtype: float64"
      ]
     },
     "execution_count": 25,
     "metadata": {},
     "output_type": "execute_result"
    }
   ],
   "source": [
    "stations_dt_exits = data_dt_exits.groupby(['STATION','DAY','TIME'])\n",
    "stations_dt_exits = stations_dt_exits['EXITS_DIFF'].mean()\n",
    "stations_dt_exits.head(7)"
   ]
  },
  {
   "cell_type": "markdown",
   "metadata": {},
   "source": [
    "# Top 100 Stations"
   ]
  },
  {
   "cell_type": "code",
   "execution_count": 26,
   "metadata": {
    "collapsed": false
   },
   "outputs": [],
   "source": [
    "top_100_exits = rounded_times[ (rounded_times['ENTRIES_DIFF'] >= 0) & (rounded_times['ENTRIES_DIFF'] < 1000000)]\n",
    "top_100_exits = top_100_exits.groupby(['STATION'])\n",
    "top_100_exits = top_100_exits['ENTRIES_DIFF','EXITS_DIFF'].sum().sort_values(by='EXITS_DIFF', ascending=0)\n",
    "top_100_exits = top_100_exits[:100].reset_index()\n",
    "stations_exits = top_100_exits['STATION']\n",
    "#print stations_exits"
   ]
  },
  {
   "cell_type": "code",
   "execution_count": 27,
   "metadata": {
    "collapsed": false,
    "scrolled": false
   },
   "outputs": [
    {
     "name": "stdout",
     "output_type": "stream",
     "text": [
      "34 ST-PENN STA\n",
      "42 ST-GRD CNTRL\n",
      "34 ST-HERALD SQ\n",
      "14 ST-UNION SQ\n",
      "86 ST\n",
      "42 ST-TIMES SQ\n",
      "42 ST-PA BUS TE\n",
      "125 ST\n",
      "FULTON ST\n",
      "59 ST-COLUMBUS\n",
      "47-50 ST-ROCK\n",
      "CANAL ST\n",
      "96 ST\n",
      "59 ST\n",
      "23 ST\n",
      "MAIN ST\n",
      "PATH WTC\n",
      "LEXINGTON-53 ST\n",
      "W 4 ST-WASH SQ\n",
      "CHAMBERS ST\n",
      "50 ST\n",
      "BARCLAYS CENTER\n",
      "ROOSEVELT AVE\n",
      "72 ST\n",
      "WALL ST\n",
      "42 ST-BRYANT PK\n",
      "77 ST\n",
      "JAMAICA CENTER\n",
      "9TH STREET\n",
      "145 ST\n",
      "14 ST\n",
      "BROADWAY/LAFAY\n",
      "28 ST\n",
      "8 AVE\n",
      "BOWLING GREEN\n",
      "CHURCH AVE\n",
      "UNION TPK-KEW G\n",
      "5 AVE-53 ST\n",
      "BEDFORD AVE\n",
      "JFK JAMAICA CT1\n",
      "BOROUGH HALL/CT\n",
      "KINGS HIGHWAY\n",
      "JAY ST-METROTEC\n",
      "23 ST-6 AVE\n",
      "GRAND ST\n",
      "33 ST\n",
      "SUTPHIN BLVD\n",
      "181 ST\n",
      "103 ST\n",
      "66 ST-LINCOLN\n",
      "14 ST-6 AVE\n",
      "68ST-HUNTER COL\n",
      "MYRTLE AVE\n",
      "CROWN HTS-UTICA\n",
      "1 AVE\n",
      "49 ST-7 AVE\n",
      "JUNCTION BLVD\n",
      "116 ST\n",
      "THIRTY THIRD ST\n",
      "BROOKLYN BRIDGE\n",
      "51 ST\n",
      "7 AVE-53 ST\n",
      "82 ST-JACKSON H\n",
      "PAVONIA/NEWPORT\n",
      "168 ST-BROADWAY\n",
      "61 ST/WOODSIDE\n",
      "ASTOR PLACE\n",
      "LEXINGTON AVE\n",
      "2 AVE\n",
      "NOSTRAND AVE\n",
      "GROVE STREET\n",
      "E 177 ST-PARKCH\n",
      "PRINCE ST-B'WAY\n",
      "WOODHAVEN BLVD\n",
      "103 ST-CORONA\n",
      "JOURNAL SQUARE\n",
      "CITY / BUS\n",
      "DITMARS BL-31 S\n",
      "STILLWELL AVE\n",
      "SPRING ST\n",
      "161 ST-YANKEE\n",
      "NEWARK HM HE\n",
      "SOUTH FERRY\n",
      "167 ST\n",
      "CHRISTOPHER ST\n",
      "FRANKLIN AVE\n",
      "28 ST-BROADWAY\n",
      "23 ST-5 AVE\n",
      "5 AVE-59 ST\n",
      "WHITEHALL ST\n",
      "DELANCEY ST\n",
      "57 ST\n",
      "EXCHANGE PLACE\n",
      "8 ST-B'WAY NYU\n",
      "FOREST HILLS-71\n",
      "GRAND-30 AVE\n",
      "SHEEPSHEAD BAY\n",
      "UTICA AVE\n",
      "DEKALB AVE\n",
      "KINGSBRIDGE RD\n"
     ]
    },
    {
     "data": {
      "text/plain": [
       "<matplotlib.figure.Figure at 0x7f412b4995d0>"
      ]
     },
     "metadata": {},
     "output_type": "display_data"
    },
    {
     "data": {
      "text/plain": [
       "<matplotlib.figure.Figure at 0x7f412b499910>"
      ]
     },
     "metadata": {},
     "output_type": "display_data"
    },
    {
     "data": {
      "text/plain": [
       "<matplotlib.figure.Figure at 0x7f412b3d1650>"
      ]
     },
     "metadata": {},
     "output_type": "display_data"
    },
    {
     "data": {
      "text/plain": [
       "<matplotlib.figure.Figure at 0x7f412c5b2390>"
      ]
     },
     "metadata": {},
     "output_type": "display_data"
    },
    {
     "data": {
      "text/plain": [
       "<matplotlib.figure.Figure at 0x7f412c157110>"
      ]
     },
     "metadata": {},
     "output_type": "display_data"
    },
    {
     "data": {
      "text/plain": [
       "<matplotlib.figure.Figure at 0x7f412c4aec50>"
      ]
     },
     "metadata": {},
     "output_type": "display_data"
    },
    {
     "data": {
      "text/plain": [
       "<matplotlib.figure.Figure at 0x7f412c1baa50>"
      ]
     },
     "metadata": {},
     "output_type": "display_data"
    },
    {
     "data": {
      "text/plain": [
       "<matplotlib.figure.Figure at 0x7f412c29f390>"
      ]
     },
     "metadata": {},
     "output_type": "display_data"
    },
    {
     "data": {
      "text/plain": [
       "<matplotlib.figure.Figure at 0x7f412c213b10>"
      ]
     },
     "metadata": {},
     "output_type": "display_data"
    },
    {
     "data": {
      "text/plain": [
       "<matplotlib.figure.Figure at 0x7f412c3c6810>"
      ]
     },
     "metadata": {},
     "output_type": "display_data"
    },
    {
     "data": {
      "text/plain": [
       "<matplotlib.figure.Figure at 0x7f412c2571d0>"
      ]
     },
     "metadata": {},
     "output_type": "display_data"
    },
    {
     "data": {
      "text/plain": [
       "<matplotlib.figure.Figure at 0x7f412c202950>"
      ]
     },
     "metadata": {},
     "output_type": "display_data"
    },
    {
     "data": {
      "text/plain": [
       "<matplotlib.figure.Figure at 0x7f4129a20910>"
      ]
     },
     "metadata": {},
     "output_type": "display_data"
    },
    {
     "data": {
      "text/plain": [
       "<matplotlib.figure.Figure at 0x7f412c070fd0>"
      ]
     },
     "metadata": {},
     "output_type": "display_data"
    },
    {
     "data": {
      "text/plain": [
       "<matplotlib.figure.Figure at 0x7f412b025990>"
      ]
     },
     "metadata": {},
     "output_type": "display_data"
    },
    {
     "data": {
      "text/plain": [
       "<matplotlib.figure.Figure at 0x7f412bf55d90>"
      ]
     },
     "metadata": {},
     "output_type": "display_data"
    },
    {
     "data": {
      "text/plain": [
       "<matplotlib.figure.Figure at 0x7f412aa73890>"
      ]
     },
     "metadata": {},
     "output_type": "display_data"
    },
    {
     "data": {
      "text/plain": [
       "<matplotlib.figure.Figure at 0x7f412aa89190>"
      ]
     },
     "metadata": {},
     "output_type": "display_data"
    },
    {
     "data": {
      "text/plain": [
       "<matplotlib.figure.Figure at 0x7f412aa74dd0>"
      ]
     },
     "metadata": {},
     "output_type": "display_data"
    },
    {
     "data": {
      "text/plain": [
       "<matplotlib.figure.Figure at 0x7f412bf69b50>"
      ]
     },
     "metadata": {},
     "output_type": "display_data"
    },
    {
     "data": {
      "text/plain": [
       "<matplotlib.figure.Figure at 0x7f412c157890>"
      ]
     },
     "metadata": {},
     "output_type": "display_data"
    },
    {
     "data": {
      "text/plain": [
       "<matplotlib.figure.Figure at 0x7f4129a014d0>"
      ]
     },
     "metadata": {},
     "output_type": "display_data"
    },
    {
     "data": {
      "text/plain": [
       "<matplotlib.figure.Figure at 0x7f412c50b7d0>"
      ]
     },
     "metadata": {},
     "output_type": "display_data"
    },
    {
     "data": {
      "text/plain": [
       "<matplotlib.figure.Figure at 0x7f412c390490>"
      ]
     },
     "metadata": {},
     "output_type": "display_data"
    },
    {
     "data": {
      "text/plain": [
       "<matplotlib.figure.Figure at 0x7f412c34f390>"
      ]
     },
     "metadata": {},
     "output_type": "display_data"
    },
    {
     "data": {
      "text/plain": [
       "<matplotlib.figure.Figure at 0x7f412c202e10>"
      ]
     },
     "metadata": {},
     "output_type": "display_data"
    },
    {
     "data": {
      "text/plain": [
       "<matplotlib.figure.Figure at 0x7f412c222910>"
      ]
     },
     "metadata": {},
     "output_type": "display_data"
    },
    {
     "data": {
      "text/plain": [
       "<matplotlib.figure.Figure at 0x7f412c0700d0>"
      ]
     },
     "metadata": {},
     "output_type": "display_data"
    },
    {
     "data": {
      "text/plain": [
       "<matplotlib.figure.Figure at 0x7f412bfc9d50>"
      ]
     },
     "metadata": {},
     "output_type": "display_data"
    },
    {
     "data": {
      "text/plain": [
       "<matplotlib.figure.Figure at 0x7f412c27e9d0>"
      ]
     },
     "metadata": {},
     "output_type": "display_data"
    },
    {
     "data": {
      "text/plain": [
       "<matplotlib.figure.Figure at 0x7f412bf84210>"
      ]
     },
     "metadata": {},
     "output_type": "display_data"
    },
    {
     "data": {
      "text/plain": [
       "<matplotlib.figure.Figure at 0x7f412c1513d0>"
      ]
     },
     "metadata": {},
     "output_type": "display_data"
    },
    {
     "data": {
      "text/plain": [
       "<matplotlib.figure.Figure at 0x7f412c164d10>"
      ]
     },
     "metadata": {},
     "output_type": "display_data"
    },
    {
     "data": {
      "text/plain": [
       "<matplotlib.figure.Figure at 0x7f412c1516d0>"
      ]
     },
     "metadata": {},
     "output_type": "display_data"
    },
    {
     "data": {
      "text/plain": [
       "<matplotlib.figure.Figure at 0x7f412bfc9b90>"
      ]
     },
     "metadata": {},
     "output_type": "display_data"
    },
    {
     "data": {
      "text/plain": [
       "<matplotlib.figure.Figure at 0x7f412c268cd0>"
      ]
     },
     "metadata": {},
     "output_type": "display_data"
    },
    {
     "data": {
      "text/plain": [
       "<matplotlib.figure.Figure at 0x7f412be85a90>"
      ]
     },
     "metadata": {},
     "output_type": "display_data"
    },
    {
     "data": {
      "text/plain": [
       "<matplotlib.figure.Figure at 0x7f412c222f90>"
      ]
     },
     "metadata": {},
     "output_type": "display_data"
    },
    {
     "data": {
      "text/plain": [
       "<matplotlib.figure.Figure at 0x7f412c658590>"
      ]
     },
     "metadata": {},
     "output_type": "display_data"
    },
    {
     "data": {
      "text/plain": [
       "<matplotlib.figure.Figure at 0x7f412c5651d0>"
      ]
     },
     "metadata": {},
     "output_type": "display_data"
    },
    {
     "data": {
      "text/plain": [
       "<matplotlib.figure.Figure at 0x7f412bedc210>"
      ]
     },
     "metadata": {},
     "output_type": "display_data"
    },
    {
     "data": {
      "text/plain": [
       "<matplotlib.figure.Figure at 0x7f412be85c10>"
      ]
     },
     "metadata": {},
     "output_type": "display_data"
    },
    {
     "data": {
      "text/plain": [
       "<matplotlib.figure.Figure at 0x7f412b025c10>"
      ]
     },
     "metadata": {},
     "output_type": "display_data"
    },
    {
     "data": {
      "text/plain": [
       "<matplotlib.figure.Figure at 0x7f412aa739d0>"
      ]
     },
     "metadata": {},
     "output_type": "display_data"
    },
    {
     "data": {
      "text/plain": [
       "<matplotlib.figure.Figure at 0x7f412c1e91d0>"
      ]
     },
     "metadata": {},
     "output_type": "display_data"
    },
    {
     "data": {
      "text/plain": [
       "<matplotlib.figure.Figure at 0x7f412b4d2cd0>"
      ]
     },
     "metadata": {},
     "output_type": "display_data"
    },
    {
     "data": {
      "text/plain": [
       "<matplotlib.figure.Figure at 0x7f412bf2bf50>"
      ]
     },
     "metadata": {},
     "output_type": "display_data"
    },
    {
     "data": {
      "text/plain": [
       "<matplotlib.figure.Figure at 0x7f412c3cfa50>"
      ]
     },
     "metadata": {},
     "output_type": "display_data"
    },
    {
     "data": {
      "text/plain": [
       "<matplotlib.figure.Figure at 0x7f412bf0ba10>"
      ]
     },
     "metadata": {},
     "output_type": "display_data"
    },
    {
     "data": {
      "text/plain": [
       "<matplotlib.figure.Figure at 0x7f412aa73b10>"
      ]
     },
     "metadata": {},
     "output_type": "display_data"
    },
    {
     "data": {
      "text/plain": [
       "<matplotlib.figure.Figure at 0x7f412c17a1d0>"
      ]
     },
     "metadata": {},
     "output_type": "display_data"
    },
    {
     "data": {
      "text/plain": [
       "<matplotlib.figure.Figure at 0x7f412c00e090>"
      ]
     },
     "metadata": {},
     "output_type": "display_data"
    },
    {
     "data": {
      "text/plain": [
       "<matplotlib.figure.Figure at 0x7f412c08b910>"
      ]
     },
     "metadata": {},
     "output_type": "display_data"
    },
    {
     "data": {
      "text/plain": [
       "<matplotlib.figure.Figure at 0x7f412c0e6110>"
      ]
     },
     "metadata": {},
     "output_type": "display_data"
    },
    {
     "data": {
      "text/plain": [
       "<matplotlib.figure.Figure at 0x7f412c50b110>"
      ]
     },
     "metadata": {},
     "output_type": "display_data"
    },
    {
     "data": {
      "text/plain": [
       "<matplotlib.figure.Figure at 0x7f412c1b4250>"
      ]
     },
     "metadata": {},
     "output_type": "display_data"
    },
    {
     "data": {
      "text/plain": [
       "<matplotlib.figure.Figure at 0x7f412bf55490>"
      ]
     },
     "metadata": {},
     "output_type": "display_data"
    },
    {
     "data": {
      "text/plain": [
       "<matplotlib.figure.Figure at 0x7f4129a20450>"
      ]
     },
     "metadata": {},
     "output_type": "display_data"
    },
    {
     "data": {
      "text/plain": [
       "<matplotlib.figure.Figure at 0x7f412bdba210>"
      ]
     },
     "metadata": {},
     "output_type": "display_data"
    },
    {
     "data": {
      "text/plain": [
       "<matplotlib.figure.Figure at 0x7f412b510b10>"
      ]
     },
     "metadata": {},
     "output_type": "display_data"
    },
    {
     "data": {
      "text/plain": [
       "<matplotlib.figure.Figure at 0x7f412b3d92d0>"
      ]
     },
     "metadata": {},
     "output_type": "display_data"
    },
    {
     "data": {
      "text/plain": [
       "<matplotlib.figure.Figure at 0x7f412c530150>"
      ]
     },
     "metadata": {},
     "output_type": "display_data"
    },
    {
     "data": {
      "text/plain": [
       "<matplotlib.figure.Figure at 0x7f412c0d61d0>"
      ]
     },
     "metadata": {},
     "output_type": "display_data"
    },
    {
     "data": {
      "text/plain": [
       "<matplotlib.figure.Figure at 0x7f412bda1a10>"
      ]
     },
     "metadata": {},
     "output_type": "display_data"
    },
    {
     "data": {
      "text/plain": [
       "<matplotlib.figure.Figure at 0x7f412c272ed0>"
      ]
     },
     "metadata": {},
     "output_type": "display_data"
    },
    {
     "data": {
      "text/plain": [
       "<matplotlib.figure.Figure at 0x7f412986c3d0>"
      ]
     },
     "metadata": {},
     "output_type": "display_data"
    },
    {
     "data": {
      "text/plain": [
       "<matplotlib.figure.Figure at 0x7f412c2689d0>"
      ]
     },
     "metadata": {},
     "output_type": "display_data"
    },
    {
     "data": {
      "text/plain": [
       "<matplotlib.figure.Figure at 0x7f412c4ae550>"
      ]
     },
     "metadata": {},
     "output_type": "display_data"
    },
    {
     "data": {
      "text/plain": [
       "<matplotlib.figure.Figure at 0x7f412c41f850>"
      ]
     },
     "metadata": {},
     "output_type": "display_data"
    },
    {
     "data": {
      "text/plain": [
       "<matplotlib.figure.Figure at 0x7f412c2e4550>"
      ]
     },
     "metadata": {},
     "output_type": "display_data"
    },
    {
     "data": {
      "text/plain": [
       "<matplotlib.figure.Figure at 0x7f412c3537d0>"
      ]
     },
     "metadata": {},
     "output_type": "display_data"
    },
    {
     "data": {
      "text/plain": [
       "<matplotlib.figure.Figure at 0x7f412aa89c50>"
      ]
     },
     "metadata": {},
     "output_type": "display_data"
    },
    {
     "data": {
      "text/plain": [
       "<matplotlib.figure.Figure at 0x7f412bfc94d0>"
      ]
     },
     "metadata": {},
     "output_type": "display_data"
    },
    {
     "data": {
      "text/plain": [
       "<matplotlib.figure.Figure at 0x7f412c17ae10>"
      ]
     },
     "metadata": {},
     "output_type": "display_data"
    },
    {
     "data": {
      "text/plain": [
       "<matplotlib.figure.Figure at 0x7f412c3a3610>"
      ]
     },
     "metadata": {},
     "output_type": "display_data"
    },
    {
     "data": {
      "text/plain": [
       "<matplotlib.figure.Figure at 0x7f412c39d710>"
      ]
     },
     "metadata": {},
     "output_type": "display_data"
    },
    {
     "data": {
      "text/plain": [
       "<matplotlib.figure.Figure at 0x7f412c502d90>"
      ]
     },
     "metadata": {},
     "output_type": "display_data"
    },
    {
     "data": {
      "text/plain": [
       "<matplotlib.figure.Figure at 0x7f412aa95d90>"
      ]
     },
     "metadata": {},
     "output_type": "display_data"
    },
    {
     "data": {
      "text/plain": [
       "<matplotlib.figure.Figure at 0x7f412bd7b990>"
      ]
     },
     "metadata": {},
     "output_type": "display_data"
    },
    {
     "data": {
      "text/plain": [
       "<matplotlib.figure.Figure at 0x7f412c17e210>"
      ]
     },
     "metadata": {},
     "output_type": "display_data"
    },
    {
     "data": {
      "text/plain": [
       "<matplotlib.figure.Figure at 0x7f412c151810>"
      ]
     },
     "metadata": {},
     "output_type": "display_data"
    },
    {
     "data": {
      "text/plain": [
       "<matplotlib.figure.Figure at 0x7f412bf1c610>"
      ]
     },
     "metadata": {},
     "output_type": "display_data"
    },
    {
     "data": {
      "text/plain": [
       "<matplotlib.figure.Figure at 0x7f412c1c3950>"
      ]
     },
     "metadata": {},
     "output_type": "display_data"
    },
    {
     "data": {
      "text/plain": [
       "<matplotlib.figure.Figure at 0x7f412c570a10>"
      ]
     },
     "metadata": {},
     "output_type": "display_data"
    },
    {
     "data": {
      "text/plain": [
       "<matplotlib.figure.Figure at 0x7f412c2bb990>"
      ]
     },
     "metadata": {},
     "output_type": "display_data"
    },
    {
     "data": {
      "text/plain": [
       "<matplotlib.figure.Figure at 0x7f412bf35550>"
      ]
     },
     "metadata": {},
     "output_type": "display_data"
    },
    {
     "data": {
      "text/plain": [
       "<matplotlib.figure.Figure at 0x7f412b43afd0>"
      ]
     },
     "metadata": {},
     "output_type": "display_data"
    },
    {
     "data": {
      "text/plain": [
       "<matplotlib.figure.Figure at 0x7f412c486ad0>"
      ]
     },
     "metadata": {},
     "output_type": "display_data"
    },
    {
     "data": {
      "text/plain": [
       "<matplotlib.figure.Figure at 0x7f412c02f9d0>"
      ]
     },
     "metadata": {},
     "output_type": "display_data"
    },
    {
     "data": {
      "text/plain": [
       "<matplotlib.figure.Figure at 0x7f412bee5ed0>"
      ]
     },
     "metadata": {},
     "output_type": "display_data"
    },
    {
     "data": {
      "text/plain": [
       "<matplotlib.figure.Figure at 0x7f412c0e68d0>"
      ]
     },
     "metadata": {},
     "output_type": "display_data"
    },
    {
     "data": {
      "text/plain": [
       "<matplotlib.figure.Figure at 0x7f41297b2610>"
      ]
     },
     "metadata": {},
     "output_type": "display_data"
    },
    {
     "data": {
      "text/plain": [
       "<matplotlib.figure.Figure at 0x7f412b30a3d0>"
      ]
     },
     "metadata": {},
     "output_type": "display_data"
    },
    {
     "data": {
      "text/plain": [
       "<matplotlib.figure.Figure at 0x7f412c2f2c90>"
      ]
     },
     "metadata": {},
     "output_type": "display_data"
    },
    {
     "data": {
      "text/plain": [
       "<matplotlib.figure.Figure at 0x7f412b2d6dd0>"
      ]
     },
     "metadata": {},
     "output_type": "display_data"
    },
    {
     "data": {
      "text/plain": [
       "<matplotlib.figure.Figure at 0x7f412b4f6190>"
      ]
     },
     "metadata": {},
     "output_type": "display_data"
    },
    {
     "data": {
      "text/plain": [
       "<matplotlib.figure.Figure at 0x7f412b510210>"
      ]
     },
     "metadata": {},
     "output_type": "display_data"
    },
    {
     "data": {
      "text/plain": [
       "<matplotlib.figure.Figure at 0x7f412bf84150>"
      ]
     },
     "metadata": {},
     "output_type": "display_data"
    },
    {
     "data": {
      "text/plain": [
       "<matplotlib.figure.Figure at 0x7f412c257150>"
      ]
     },
     "metadata": {},
     "output_type": "display_data"
    },
    {
     "data": {
      "text/plain": [
       "<matplotlib.figure.Figure at 0x7f412c2ded50>"
      ]
     },
     "metadata": {},
     "output_type": "display_data"
    },
    {
     "data": {
      "image/png": "[encoded data removed]",
      "text/plain": [
       "<matplotlib.figure.Figure at 0x7f412c0fb750>"
      ]
     },
     "metadata": {},
     "output_type": "display_data"
    }
   ],
   "source": [
    "#station = '1 AVE' 14 ST-UNION SQ\n",
    "#station = '34 ST-PENN STA'\n",
    "#for station in ['34 ST-PENN STA']:\n",
    "for station in stations_exits:\n",
    "    print station\n",
    "    one_station = data_dt_exits[ data_dt_exits['STATION'] == station ]\n",
    "    #print one_station.head()\n",
    "    #print one_station.describe()\n",
    "    one_groupby = one_station.groupby(['DAY','TIME'])\n",
    "    one_dt = one_groupby['EXITS_DIFF'].mean().reset_index()\n",
    "    #print one_dt.describe()\n",
    "    # changing format of the pandas data frame from three-columns to 2-column indices and third-column as values\n",
    "    # of a matrix\n",
    "    one_dt_heatmap = one_dt.set_index(['DAY', 'TIME']).EXITS_DIFF.unstack(0)\n",
    "    days_mapper = {0:'Mon',1:'Tues',2:'Weds',3:'Thurs',4:'Fri',5:'Sat',6:'Sun'}\n",
    "    one_dt_heatmap.columns = [days_mapper[c] for c in one_dt_heatmap.columns]\n",
    "    plt.clf()\n",
    "    matplotlib.rc('xtick', labelsize=25) \n",
    "    matplotlib.rc('ytick', labelsize=25) \n",
    "    plt.figure(figsize = (30,15))\n",
    "    plt.title(\"EXITS : \" +station, fontsize=50, color='grey', fontweight='bold')\n",
    "    plt.xlabel('DAY',fontsize=30)\n",
    "    plt.ylabel('TIME',fontsize=30)\n",
    "    #x = range(0,7,1)\n",
    "    #xLabel = np.array(['Monday', 'Tuesday', 'Wednesday', 'Thursday', 'Friday', 'Saturday', 'Sunday'])\n",
    "    #plt.xticks(x,xLabel)\n",
    "    #fig, ax = plt.subplots(figsize=[25,10])\n",
    "    sns.heatmap(one_dt_heatmap)\n",
    "    stationpath = station\n",
    "    stationdict = {'BOROUGH HALL/CT': 'BOROUGH HALL-CT',\n",
    "                   'HOYT/SCHERMER' : 'HOYT-SCHERMER', \n",
    "                   'BEDFORD/NOSTRAN' : 'BEDFORD-NOSTRAN',\n",
    "                   'VERNON/JACKSON': 'VERNON-JACKSON',\n",
    "                   '33 ST/RAWSON ST': '33 ST-RAWSON ST',\n",
    "                   'BROADWAY/LAFAY' : 'BROADWAY-LAFAY',\n",
    "                   'PAVONIA/NEWPORT' : 'PAVONIA-NEWPORT',\n",
    "                   '61 ST/WOODSIDE' : '61 ST-WOODSIDE',\n",
    "                   'CITY / BUS' : 'CITY - BUS'}\n",
    "    if station in stationdict:\n",
    "        stationpath = stationdict[station]\n",
    "    path = \"exits/heatmap_\" + stationpath + \".png\"\n",
    "    plt.savefig(path)"
   ]
  },
  {
   "cell_type": "markdown",
   "metadata": {},
   "source": [
    "# Group by station and datetime"
   ]
  },
  {
   "cell_type": "code",
   "execution_count": 28,
   "metadata": {
    "collapsed": false
   },
   "outputs": [
    {
     "data": {
      "text/html": [
       "<div>\n",
       "<table border=\"1\" class=\"dataframe\">\n",
       "  <thead>\n",
       "    <tr style=\"text-align: right;\">\n",
       "      <th></th>\n",
       "      <th></th>\n",
       "      <th>ENTRIES_DIFF</th>\n",
       "      <th>EXITS_DIFF</th>\n",
       "    </tr>\n",
       "    <tr>\n",
       "      <th>STATION</th>\n",
       "      <th>DATETIME</th>\n",
       "      <th></th>\n",
       "      <th></th>\n",
       "    </tr>\n",
       "  </thead>\n",
       "  <tbody>\n",
       "    <tr>\n",
       "      <th rowspan=\"5\" valign=\"top\">1 AVE</th>\n",
       "      <th>2015-04-25 04:00:00</th>\n",
       "      <td>3.0</td>\n",
       "      <td>76.0</td>\n",
       "    </tr>\n",
       "    <tr>\n",
       "      <th>2015-04-25 08:00:00</th>\n",
       "      <td>2.0</td>\n",
       "      <td>53.0</td>\n",
       "    </tr>\n",
       "    <tr>\n",
       "      <th>2015-04-25 12:00:00</th>\n",
       "      <td>2.0</td>\n",
       "      <td>54.0</td>\n",
       "    </tr>\n",
       "    <tr>\n",
       "      <th>2015-04-25 16:00:00</th>\n",
       "      <td>4.0</td>\n",
       "      <td>57.0</td>\n",
       "    </tr>\n",
       "    <tr>\n",
       "      <th>2015-04-25 20:00:00</th>\n",
       "      <td>0.0</td>\n",
       "      <td>41.0</td>\n",
       "    </tr>\n",
       "  </tbody>\n",
       "</table>\n",
       "</div>"
      ],
      "text/plain": [
       "                             ENTRIES_DIFF  EXITS_DIFF\n",
       "STATION DATETIME                                     \n",
       "1 AVE   2015-04-25 04:00:00           3.0        76.0\n",
       "        2015-04-25 08:00:00           2.0        53.0\n",
       "        2015-04-25 12:00:00           2.0        54.0\n",
       "        2015-04-25 16:00:00           4.0        57.0\n",
       "        2015-04-25 20:00:00           0.0        41.0"
      ]
     },
     "execution_count": 28,
     "metadata": {},
     "output_type": "execute_result"
    }
   ],
   "source": [
    "# group by station name and datetime,\n",
    "station_time_groupby = reg_data.groupby(['STATION','DATETIME'])\n",
    "\n",
    "# data.join(station_time_groupby['ENTRIES_DIFF','EXITS_DIFF'].sum(), on=['STATION','DATETIME'], rsuffix='_r')\n",
    "station_time_groupby['ENTRIES_DIFF','EXITS_DIFF'].sum().head()"
   ]
  },
  {
   "cell_type": "code",
   "execution_count": 29,
   "metadata": {
    "collapsed": false
   },
   "outputs": [
    {
     "data": {
      "text/plain": [
       "C/A                            A011\n",
       "UNIT                           R007\n",
       "SCP                        00-00-00\n",
       "STATION                       1 AVE\n",
       "LINENAME                          1\n",
       "DIVISION                        BMT\n",
       "DATE                     04/25/2015\n",
       "TIME                       00:00:00\n",
       "DESC                     RECOVR AUD\n",
       "ENTRIES                           0\n",
       "EXITS                             0\n",
       "DATETIME        2015-04-25 04:00:00\n",
       "ENTRIES_DIFF           -1.40381e+09\n",
       "EXITS_DIFF             -1.11135e+07\n",
       "dtype: object"
      ]
     },
     "execution_count": 29,
     "metadata": {},
     "output_type": "execute_result"
    }
   ],
   "source": [
    "# The dataset also leads to many negative diff values and unreasonably high negative diff peaks (-1.4x10^9)\n",
    "data[data.ENTRIES_DIFF < 0].min()"
   ]
  },
  {
   "cell_type": "code",
   "execution_count": null,
   "metadata": {
    "collapsed": true
   },
   "outputs": [],
   "source": []
  }
 ],
 "metadata": {
  "kernelspec": {
   "display_name": "Python 2",
   "language": "python",
   "name": "python2"
  },
  "language_info": {
   "codemirror_mode": {
    "name": "ipython",
    "version": 2
   },
   "file_extension": ".py",
   "mimetype": "text/x-python",
   "name": "python",
   "nbconvert_exporter": "python",
   "pygments_lexer": "ipython2",
   "version": "2.7.11"
  }
 },
 "nbformat": 4,
 "nbformat_minor": 0
}
