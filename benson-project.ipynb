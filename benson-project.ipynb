{
 "cells": [
  {
   "cell_type": "markdown",
   "metadata": {},
   "source": [
    "# Reading May and Beg. of June Data"
   ]
  },
  {
   "cell_type": "code",
   "execution_count": 30,
   "metadata": {
    "collapsed": false
   },
   "outputs": [],
   "source": [
    "%matplotlib inline\n",
    "#from matplotlib import pyplot as pt\n",
    "import matplotlib\n",
    "matplotlib.style.use('ggplot')\n",
    "import pandas as pd\n",
    "import seaborn as sns\n",
    "\n",
    "from datetime import datetime\n",
    "\n",
    "import os\n",
    "import glob"
   ]
  },
  {
   "cell_type": "code",
   "execution_count": 31,
   "metadata": {
    "collapsed": false
   },
   "outputs": [
    {
     "name": "stdout",
     "output_type": "stream",
     "text": [
      "\n",
      "got 1152582 rows total.\n"
     ]
    }
   ],
   "source": [
    "def load_local_data():\n",
    "    csv_path = os.path.join(os.getcwd(), 'data-gala/*.txt')\n",
    "    all_files = glob.glob(csv_path)\n",
    "    \n",
    "    all_files = ['/home/lucia/lucia/metis/01-benson/data-gala/01_turnstile_150502.txt',\n",
    "                 '/home/lucia/lucia/metis/01-benson/data-gala/02_turnstile_150509.txt',\n",
    "                 '/home/lucia/lucia/metis/01-benson/data-gala/03_turnstile_150516.txt',\n",
    "                 '/home/lucia/lucia/metis/01-benson/data-gala/04_turnstile_150523.txt',\n",
    "                 '/home/lucia/lucia/metis/01-benson/data-gala/05_turnstile_150530.txt',\n",
    "                 '/home/lucia/lucia/metis/01-benson/data-gala/06_turnstile_150606.txt']\n",
    "    \n",
    "  #  print 'reading data from files:'\n",
    "  #  for f in all_files:\n",
    "  #      print f\n",
    "    \n",
    "    data = pd.concat((pd.read_csv(f) for f in all_files))\n",
    "    \n",
    "    # strip whitespace off column headers (eg 'EXITS               ' has trailing spaces)\n",
    "    data = data.rename(columns=lambda x: x.strip())\n",
    "    return data\n",
    "\n",
    "data = load_local_data()\n",
    "print \"\\ngot %i rows total.\" % len(data)\n",
    "#data.head()"
   ]
  },
  {
   "cell_type": "markdown",
   "metadata": {},
   "source": [
    "# How many unique stations do we have in our set?"
   ]
  },
  {
   "cell_type": "code",
   "execution_count": 32,
   "metadata": {
    "collapsed": false
   },
   "outputs": [
    {
     "name": "stdout",
     "output_type": "stream",
     "text": [
      "384\n"
     ]
    }
   ],
   "source": [
    "# How many stations are there?\n",
    "unique_stations = data.STATION.unique()\n",
    "print len(unique_stations)"
   ]
  },
  {
   "cell_type": "markdown",
   "metadata": {},
   "source": [
    "# Transforming data: creating datetime, entries and exits diffs, and sums"
   ]
  },
  {
   "cell_type": "code",
   "execution_count": 33,
   "metadata": {
    "collapsed": false
   },
   "outputs": [
    {
     "data": {
      "text/html": [
       "<div>\n",
       "<table border=\"1\" class=\"dataframe\">\n",
       "  <thead>\n",
       "    <tr style=\"text-align: right;\">\n",
       "      <th></th>\n",
       "      <th>C/A</th>\n",
       "      <th>UNIT</th>\n",
       "      <th>SCP</th>\n",
       "      <th>STATION</th>\n",
       "      <th>LINENAME</th>\n",
       "      <th>DIVISION</th>\n",
       "      <th>DATE</th>\n",
       "      <th>TIME</th>\n",
       "      <th>DESC</th>\n",
       "      <th>ENTRIES</th>\n",
       "      <th>EXITS</th>\n",
       "      <th>DATETIME</th>\n",
       "    </tr>\n",
       "  </thead>\n",
       "  <tbody>\n",
       "    <tr>\n",
       "      <th>191727</th>\n",
       "      <td>TRAM2</td>\n",
       "      <td>R469</td>\n",
       "      <td>00-05-01</td>\n",
       "      <td>RIT-ROOSEVELT</td>\n",
       "      <td>R</td>\n",
       "      <td>RIT</td>\n",
       "      <td>06/05/2015</td>\n",
       "      <td>05:00:00</td>\n",
       "      <td>REGULAR</td>\n",
       "      <td>5554</td>\n",
       "      <td>212</td>\n",
       "      <td>2015-06-05 05:00:00</td>\n",
       "    </tr>\n",
       "    <tr>\n",
       "      <th>191728</th>\n",
       "      <td>TRAM2</td>\n",
       "      <td>R469</td>\n",
       "      <td>00-05-01</td>\n",
       "      <td>RIT-ROOSEVELT</td>\n",
       "      <td>R</td>\n",
       "      <td>RIT</td>\n",
       "      <td>06/05/2015</td>\n",
       "      <td>09:00:00</td>\n",
       "      <td>REGULAR</td>\n",
       "      <td>5554</td>\n",
       "      <td>212</td>\n",
       "      <td>2015-06-05 09:00:00</td>\n",
       "    </tr>\n",
       "    <tr>\n",
       "      <th>191729</th>\n",
       "      <td>TRAM2</td>\n",
       "      <td>R469</td>\n",
       "      <td>00-05-01</td>\n",
       "      <td>RIT-ROOSEVELT</td>\n",
       "      <td>R</td>\n",
       "      <td>RIT</td>\n",
       "      <td>06/05/2015</td>\n",
       "      <td>13:00:00</td>\n",
       "      <td>REGULAR</td>\n",
       "      <td>5554</td>\n",
       "      <td>212</td>\n",
       "      <td>2015-06-05 13:00:00</td>\n",
       "    </tr>\n",
       "    <tr>\n",
       "      <th>191730</th>\n",
       "      <td>TRAM2</td>\n",
       "      <td>R469</td>\n",
       "      <td>00-05-01</td>\n",
       "      <td>RIT-ROOSEVELT</td>\n",
       "      <td>R</td>\n",
       "      <td>RIT</td>\n",
       "      <td>06/05/2015</td>\n",
       "      <td>17:00:00</td>\n",
       "      <td>REGULAR</td>\n",
       "      <td>5554</td>\n",
       "      <td>212</td>\n",
       "      <td>2015-06-05 17:00:00</td>\n",
       "    </tr>\n",
       "    <tr>\n",
       "      <th>191731</th>\n",
       "      <td>TRAM2</td>\n",
       "      <td>R469</td>\n",
       "      <td>00-05-01</td>\n",
       "      <td>RIT-ROOSEVELT</td>\n",
       "      <td>R</td>\n",
       "      <td>RIT</td>\n",
       "      <td>06/05/2015</td>\n",
       "      <td>21:00:00</td>\n",
       "      <td>REGULAR</td>\n",
       "      <td>5554</td>\n",
       "      <td>212</td>\n",
       "      <td>2015-06-05 21:00:00</td>\n",
       "    </tr>\n",
       "  </tbody>\n",
       "</table>\n",
       "</div>"
      ],
      "text/plain": [
       "          C/A  UNIT       SCP        STATION LINENAME DIVISION        DATE  \\\n",
       "191727  TRAM2  R469  00-05-01  RIT-ROOSEVELT        R      RIT  06/05/2015   \n",
       "191728  TRAM2  R469  00-05-01  RIT-ROOSEVELT        R      RIT  06/05/2015   \n",
       "191729  TRAM2  R469  00-05-01  RIT-ROOSEVELT        R      RIT  06/05/2015   \n",
       "191730  TRAM2  R469  00-05-01  RIT-ROOSEVELT        R      RIT  06/05/2015   \n",
       "191731  TRAM2  R469  00-05-01  RIT-ROOSEVELT        R      RIT  06/05/2015   \n",
       "\n",
       "            TIME     DESC  ENTRIES  EXITS            DATETIME  \n",
       "191727  05:00:00  REGULAR     5554    212 2015-06-05 05:00:00  \n",
       "191728  09:00:00  REGULAR     5554    212 2015-06-05 09:00:00  \n",
       "191729  13:00:00  REGULAR     5554    212 2015-06-05 13:00:00  \n",
       "191730  17:00:00  REGULAR     5554    212 2015-06-05 17:00:00  \n",
       "191731  21:00:00  REGULAR     5554    212 2015-06-05 21:00:00  "
      ]
     },
     "execution_count": 33,
     "metadata": {},
     "output_type": "execute_result"
    }
   ],
   "source": [
    "# make a datetime column\n",
    "data['DATETIME'] = pd.to_datetime(data.DATE + ' ' + data.TIME, format=\"%m/%d/%Y %H:%M:%S\")\n",
    "data.head()\n",
    "data.tail()"
   ]
  },
  {
   "cell_type": "code",
   "execution_count": 58,
   "metadata": {
    "collapsed": false
   },
   "outputs": [
    {
     "data": {
      "text/html": [
       "<div>\n",
       "<table border=\"1\" class=\"dataframe\">\n",
       "  <thead>\n",
       "    <tr style=\"text-align: right;\">\n",
       "      <th></th>\n",
       "      <th>C/A</th>\n",
       "      <th>UNIT</th>\n",
       "      <th>SCP</th>\n",
       "      <th>STATION</th>\n",
       "      <th>LINENAME</th>\n",
       "      <th>DIVISION</th>\n",
       "      <th>DATE</th>\n",
       "      <th>TIME</th>\n",
       "      <th>DESC</th>\n",
       "      <th>ENTRIES</th>\n",
       "      <th>EXITS</th>\n",
       "      <th>DATETIME</th>\n",
       "      <th>ENTRIES_DIFF</th>\n",
       "      <th>EXITS_DIFF</th>\n",
       "    </tr>\n",
       "  </thead>\n",
       "  <tbody>\n",
       "    <tr>\n",
       "      <th>0</th>\n",
       "      <td>A002</td>\n",
       "      <td>R051</td>\n",
       "      <td>02-00-00</td>\n",
       "      <td>LEXINGTON AVE</td>\n",
       "      <td>NQR456</td>\n",
       "      <td>BMT</td>\n",
       "      <td>04/25/2015</td>\n",
       "      <td>00:00:00</td>\n",
       "      <td>REGULAR</td>\n",
       "      <td>5106770</td>\n",
       "      <td>1729635</td>\n",
       "      <td>2015-04-25 00:00:00</td>\n",
       "      <td>NaN</td>\n",
       "      <td>NaN</td>\n",
       "    </tr>\n",
       "    <tr>\n",
       "      <th>1</th>\n",
       "      <td>A002</td>\n",
       "      <td>R051</td>\n",
       "      <td>02-00-00</td>\n",
       "      <td>LEXINGTON AVE</td>\n",
       "      <td>NQR456</td>\n",
       "      <td>BMT</td>\n",
       "      <td>04/25/2015</td>\n",
       "      <td>04:00:00</td>\n",
       "      <td>REGULAR</td>\n",
       "      <td>5106810</td>\n",
       "      <td>1729649</td>\n",
       "      <td>2015-04-25 04:00:00</td>\n",
       "      <td>40.0</td>\n",
       "      <td>14.0</td>\n",
       "    </tr>\n",
       "    <tr>\n",
       "      <th>2</th>\n",
       "      <td>A002</td>\n",
       "      <td>R051</td>\n",
       "      <td>02-00-00</td>\n",
       "      <td>LEXINGTON AVE</td>\n",
       "      <td>NQR456</td>\n",
       "      <td>BMT</td>\n",
       "      <td>04/25/2015</td>\n",
       "      <td>08:00:00</td>\n",
       "      <td>REGULAR</td>\n",
       "      <td>5106835</td>\n",
       "      <td>1729680</td>\n",
       "      <td>2015-04-25 08:00:00</td>\n",
       "      <td>25.0</td>\n",
       "      <td>31.0</td>\n",
       "    </tr>\n",
       "    <tr>\n",
       "      <th>3</th>\n",
       "      <td>A002</td>\n",
       "      <td>R051</td>\n",
       "      <td>02-00-00</td>\n",
       "      <td>LEXINGTON AVE</td>\n",
       "      <td>NQR456</td>\n",
       "      <td>BMT</td>\n",
       "      <td>04/25/2015</td>\n",
       "      <td>12:00:00</td>\n",
       "      <td>REGULAR</td>\n",
       "      <td>5106961</td>\n",
       "      <td>1729784</td>\n",
       "      <td>2015-04-25 12:00:00</td>\n",
       "      <td>126.0</td>\n",
       "      <td>104.0</td>\n",
       "    </tr>\n",
       "    <tr>\n",
       "      <th>4</th>\n",
       "      <td>A002</td>\n",
       "      <td>R051</td>\n",
       "      <td>02-00-00</td>\n",
       "      <td>LEXINGTON AVE</td>\n",
       "      <td>NQR456</td>\n",
       "      <td>BMT</td>\n",
       "      <td>04/25/2015</td>\n",
       "      <td>16:00:00</td>\n",
       "      <td>REGULAR</td>\n",
       "      <td>5107250</td>\n",
       "      <td>1729858</td>\n",
       "      <td>2015-04-25 16:00:00</td>\n",
       "      <td>289.0</td>\n",
       "      <td>74.0</td>\n",
       "    </tr>\n",
       "    <tr>\n",
       "      <th>5</th>\n",
       "      <td>A002</td>\n",
       "      <td>R051</td>\n",
       "      <td>02-00-00</td>\n",
       "      <td>LEXINGTON AVE</td>\n",
       "      <td>NQR456</td>\n",
       "      <td>BMT</td>\n",
       "      <td>04/25/2015</td>\n",
       "      <td>20:00:00</td>\n",
       "      <td>REGULAR</td>\n",
       "      <td>5107620</td>\n",
       "      <td>1729914</td>\n",
       "      <td>2015-04-25 20:00:00</td>\n",
       "      <td>370.0</td>\n",
       "      <td>56.0</td>\n",
       "    </tr>\n",
       "    <tr>\n",
       "      <th>6</th>\n",
       "      <td>A002</td>\n",
       "      <td>R051</td>\n",
       "      <td>02-00-00</td>\n",
       "      <td>LEXINGTON AVE</td>\n",
       "      <td>NQR456</td>\n",
       "      <td>BMT</td>\n",
       "      <td>04/26/2015</td>\n",
       "      <td>00:00:00</td>\n",
       "      <td>REGULAR</td>\n",
       "      <td>5107793</td>\n",
       "      <td>1729955</td>\n",
       "      <td>2015-04-26 00:00:00</td>\n",
       "      <td>173.0</td>\n",
       "      <td>41.0</td>\n",
       "    </tr>\n",
       "    <tr>\n",
       "      <th>7</th>\n",
       "      <td>A002</td>\n",
       "      <td>R051</td>\n",
       "      <td>02-00-00</td>\n",
       "      <td>LEXINGTON AVE</td>\n",
       "      <td>NQR456</td>\n",
       "      <td>BMT</td>\n",
       "      <td>04/26/2015</td>\n",
       "      <td>04:00:00</td>\n",
       "      <td>REGULAR</td>\n",
       "      <td>5107815</td>\n",
       "      <td>1729964</td>\n",
       "      <td>2015-04-26 04:00:00</td>\n",
       "      <td>22.0</td>\n",
       "      <td>9.0</td>\n",
       "    </tr>\n",
       "    <tr>\n",
       "      <th>8</th>\n",
       "      <td>A002</td>\n",
       "      <td>R051</td>\n",
       "      <td>02-00-00</td>\n",
       "      <td>LEXINGTON AVE</td>\n",
       "      <td>NQR456</td>\n",
       "      <td>BMT</td>\n",
       "      <td>04/26/2015</td>\n",
       "      <td>08:00:00</td>\n",
       "      <td>REGULAR</td>\n",
       "      <td>5107844</td>\n",
       "      <td>1729991</td>\n",
       "      <td>2015-04-26 08:00:00</td>\n",
       "      <td>29.0</td>\n",
       "      <td>27.0</td>\n",
       "    </tr>\n",
       "    <tr>\n",
       "      <th>9</th>\n",
       "      <td>A002</td>\n",
       "      <td>R051</td>\n",
       "      <td>02-00-00</td>\n",
       "      <td>LEXINGTON AVE</td>\n",
       "      <td>NQR456</td>\n",
       "      <td>BMT</td>\n",
       "      <td>04/26/2015</td>\n",
       "      <td>12:00:00</td>\n",
       "      <td>REGULAR</td>\n",
       "      <td>5107912</td>\n",
       "      <td>1730068</td>\n",
       "      <td>2015-04-26 12:00:00</td>\n",
       "      <td>68.0</td>\n",
       "      <td>77.0</td>\n",
       "    </tr>\n",
       "  </tbody>\n",
       "</table>\n",
       "</div>"
      ],
      "text/plain": [
       "    C/A  UNIT       SCP        STATION LINENAME DIVISION        DATE  \\\n",
       "0  A002  R051  02-00-00  LEXINGTON AVE   NQR456      BMT  04/25/2015   \n",
       "1  A002  R051  02-00-00  LEXINGTON AVE   NQR456      BMT  04/25/2015   \n",
       "2  A002  R051  02-00-00  LEXINGTON AVE   NQR456      BMT  04/25/2015   \n",
       "3  A002  R051  02-00-00  LEXINGTON AVE   NQR456      BMT  04/25/2015   \n",
       "4  A002  R051  02-00-00  LEXINGTON AVE   NQR456      BMT  04/25/2015   \n",
       "5  A002  R051  02-00-00  LEXINGTON AVE   NQR456      BMT  04/25/2015   \n",
       "6  A002  R051  02-00-00  LEXINGTON AVE   NQR456      BMT  04/26/2015   \n",
       "7  A002  R051  02-00-00  LEXINGTON AVE   NQR456      BMT  04/26/2015   \n",
       "8  A002  R051  02-00-00  LEXINGTON AVE   NQR456      BMT  04/26/2015   \n",
       "9  A002  R051  02-00-00  LEXINGTON AVE   NQR456      BMT  04/26/2015   \n",
       "\n",
       "       TIME     DESC  ENTRIES    EXITS            DATETIME  ENTRIES_DIFF  \\\n",
       "0  00:00:00  REGULAR  5106770  1729635 2015-04-25 00:00:00           NaN   \n",
       "1  04:00:00  REGULAR  5106810  1729649 2015-04-25 04:00:00          40.0   \n",
       "2  08:00:00  REGULAR  5106835  1729680 2015-04-25 08:00:00          25.0   \n",
       "3  12:00:00  REGULAR  5106961  1729784 2015-04-25 12:00:00         126.0   \n",
       "4  16:00:00  REGULAR  5107250  1729858 2015-04-25 16:00:00         289.0   \n",
       "5  20:00:00  REGULAR  5107620  1729914 2015-04-25 20:00:00         370.0   \n",
       "6  00:00:00  REGULAR  5107793  1729955 2015-04-26 00:00:00         173.0   \n",
       "7  04:00:00  REGULAR  5107815  1729964 2015-04-26 04:00:00          22.0   \n",
       "8  08:00:00  REGULAR  5107844  1729991 2015-04-26 08:00:00          29.0   \n",
       "9  12:00:00  REGULAR  5107912  1730068 2015-04-26 12:00:00          68.0   \n",
       "\n",
       "   EXITS_DIFF  \n",
       "0         NaN  \n",
       "1        14.0  \n",
       "2        31.0  \n",
       "3       104.0  \n",
       "4        74.0  \n",
       "5        56.0  \n",
       "6        41.0  \n",
       "7         9.0  \n",
       "8        27.0  \n",
       "9        77.0  "
      ]
     },
     "execution_count": 58,
     "metadata": {},
     "output_type": "execute_result"
    }
   ],
   "source": [
    "# Calclate new columns ENTRIES_DIFF and EXITS_DIFF for each unique turnstile/device.\n",
    "# The first entry is NaN, the rest of the entries are the difference from the previous.\n",
    "turnstile_groupby = data.groupby(['C/A','UNIT','SCP','STATION'])\n",
    "for diff_field in ('ENTRIES','EXITS'):\n",
    "    data[diff_field + '_DIFF'] = turnstile_groupby[diff_field].transform(pd.Series.diff)\n",
    "data.head(10)"
   ]
  },
  {
   "cell_type": "code",
   "execution_count": 35,
   "metadata": {
    "collapsed": false
   },
   "outputs": [
    {
     "name": "stdout",
     "output_type": "stream",
     "text": [
      "the number of NaN entries should equal the total unique turnstiles.\n",
      "4568 4568\n"
     ]
    }
   ],
   "source": [
    "# sanity check for getting the differences:\n",
    "nan_entries = len(data[data.ENTRIES_DIFF.isnull()])\n",
    "total_unique_turnstiles = len(turnstile_groupby)\n",
    "print 'the number of NaN entries should equal the total unique turnstiles.'\n",
    "print nan_entries, total_unique_turnstiles\n",
    "\n",
    "assert nan_entries == total_unique_turnstiles"
   ]
  },
  {
   "cell_type": "code",
   "execution_count": 36,
   "metadata": {
    "collapsed": false
   },
   "outputs": [
    {
     "name": "stdout",
     "output_type": "stream",
     "text": [
      "4568\n",
      "1148014\n",
      "1152582\n"
     ]
    }
   ],
   "source": [
    "# learning how to deal with NA values\n",
    "print len(data[data.ENTRIES_DIFF.isnull()])\n",
    "print len(data.dropna())\n",
    "print len(data)"
   ]
  },
  {
   "cell_type": "code",
   "execution_count": 76,
   "metadata": {
    "collapsed": false
   },
   "outputs": [
    {
     "data": {
      "text/plain": [
       "0.9968981214514806"
      ]
     },
     "execution_count": 76,
     "metadata": {},
     "output_type": "execute_result"
    }
   ],
   "source": [
    "# dropping NA values and all non-REGULAR recordings\n",
    "# calculating percentage of \"regular\" values vs. all nonNA values\n",
    "reg_data = data.dropna()\n",
    "reg_data = reg_data[ reg_data['DESC'] == 'REGULAR']\n",
    "len(reg_data)/float(len(data.dropna()))"
   ]
  },
  {
   "cell_type": "code",
   "execution_count": 77,
   "metadata": {
    "collapsed": false
   },
   "outputs": [
    {
     "name": "stdout",
     "output_type": "stream",
     "text": [
      "['04:00:00' '08:00:00' '12:00:00' '16:00:00' '20:00:00' '00:00:00']\n",
      "['04:00:00' '08:00:00' '12:00:00' ..., '19:09:21' '08:16:33' '07:37:13']\n",
      "0.483329590643\n"
     ]
    }
   ],
   "source": [
    "# FYI: there are about 48% of rows that are recorded at times other than 0,4,8,12,16 or 20 hours !!! \n",
    "filtered_times = reg_data[ reg_data['TIME'].isin(['00:00:00','04:00:00','08:00:00','12:00:00','16:00:00','20:00:00'])]\n",
    "print filtered_times['TIME'].unique()\n",
    "print reg_data['TIME'].unique()\n",
    "print (len(reg_data)-len(filtered_times))/float(len(reg_data))"
   ]
  },
  {
   "cell_type": "markdown",
   "metadata": {},
   "source": [
    "# Finding Max Entries Stations"
   ]
  },
  {
   "cell_type": "code",
   "execution_count": 78,
   "metadata": {
    "collapsed": false
   },
   "outputs": [
    {
     "name": "stdout",
     "output_type": "stream",
     "text": [
      "                 ENTRIES_DIFF    EXITS_DIFF\n",
      "STATION                                    \n",
      "149 ST-3 AVE     1.942124e+09  1.241344e+09\n",
      "LEXINGTON-53 ST  1.543446e+09  7.269518e+08\n",
      "116 ST-COLUMBIA  1.153612e+09  2.341994e+08\n",
      "59 ST            1.038579e+09  7.262767e+08\n",
      "1 AVE            9.389433e+08  9.861545e+08\n",
      "110 ST-CPN       7.357633e+08  7.690074e+08\n",
      "174 ST           6.855274e+08  4.691848e+06\n",
      "CANAL ST         4.537113e+08  8.210010e+08\n",
      "14 ST-6 AVE      3.683715e+08  3.350736e+08\n",
      "GRAND ST         2.184926e+08  1.398768e+09\n",
      "18 ST            2.008699e+08  7.354519e+08\n",
      "5 AVE-59 ST      1.140999e+08 -6.611688e+06\n",
      "PELHAM BAY PARK  8.417113e+07  3.372508e+07\n",
      "34 ST-HERALD SQ  8.342207e+07 -2.034104e+06\n",
      "ZEREGA AVE       5.181220e+07 -2.302811e+06\n",
      "170 ST           5.097030e+07  3.934740e+05\n",
      "33 ST/RAWSON ST  5.081821e+07  1.712046e+07\n",
      "28 ST            1.251251e+07  2.689071e+08\n",
      "34 ST-PENN STA   6.265906e+06  5.496082e+06\n",
      "86 ST            4.303861e+06  3.391643e+06\n"
     ]
    },
    {
     "name": "stderr",
     "output_type": "stream",
     "text": [
      "/home/lucia/anaconda2/lib/python2.7/site-packages/ipykernel/__main__.py:2: FutureWarning: sort(columns=....) is deprecated, use sort_values(by=.....)\n",
      "  from ipykernel import kernelapp as app\n"
     ]
    }
   ],
   "source": [
    "station_groupby = reg_data.groupby(['STATION'])\n",
    "top_20 = station_groupby['ENTRIES_DIFF','EXITS_DIFF'].sum().sort('ENTRIES_DIFF', ascending=0)\n",
    "top_20 = top_20[:20]\n",
    "print top_20"
   ]
  },
  {
   "cell_type": "code",
   "execution_count": 79,
   "metadata": {
    "collapsed": false
   },
   "outputs": [],
   "source": [
    "top_20_entries = top_20.ENTRIES_DIFF\n",
    "#print top_20_entries"
   ]
  },
  {
   "cell_type": "code",
   "execution_count": 80,
   "metadata": {
    "collapsed": false
   },
   "outputs": [
    {
     "data": {
      "text/plain": [
       "<matplotlib.axes._subplots.AxesSubplot at 0x7fb9daa76450>"
      ]
     },
     "execution_count": 80,
     "metadata": {},
     "output_type": "execute_result"
    },
    {
     "data": {
      "image/png": "[encoded data removed]",
      "text/plain": [
       "<matplotlib.figure.Figure at 0x7fb9c6809a10>"
      ]
     },
     "metadata": {},
     "output_type": "display_data"
    }
   ],
   "source": [
    "top_20_entries.plot(kind='bar')"
   ]
  },
  {
   "cell_type": "markdown",
   "metadata": {},
   "source": [
    "# Station day time heatmap"
   ]
  },
  {
   "cell_type": "code",
   "execution_count": 81,
   "metadata": {
    "collapsed": false
   },
   "outputs": [],
   "source": [
    "# Looking only at measurements that occurred at the 0,4,8,12,16,20-hour windows.\n",
    "# Working with the filtered_times dataset\n",
    "data_dt = filtered_times[['STATION', 'DATETIME', 'ENTRIES_DIFF','EXITS_DIFF']]"
   ]
  },
  {
   "cell_type": "code",
   "execution_count": 82,
   "metadata": {
    "collapsed": false
   },
   "outputs": [
    {
     "name": "stderr",
     "output_type": "stream",
     "text": [
      "/home/lucia/anaconda2/lib/python2.7/site-packages/ipykernel/__main__.py:1: SettingWithCopyWarning: \n",
      "A value is trying to be set on a copy of a slice from a DataFrame.\n",
      "Try using .loc[row_indexer,col_indexer] = value instead\n",
      "\n",
      "See the caveats in the documentation: http://pandas.pydata.org/pandas-docs/stable/indexing.html#indexing-view-versus-copy\n",
      "  if __name__ == '__main__':\n",
      "/home/lucia/anaconda2/lib/python2.7/site-packages/ipykernel/__main__.py:2: SettingWithCopyWarning: \n",
      "A value is trying to be set on a copy of a slice from a DataFrame.\n",
      "Try using .loc[row_indexer,col_indexer] = value instead\n",
      "\n",
      "See the caveats in the documentation: http://pandas.pydata.org/pandas-docs/stable/indexing.html#indexing-view-versus-copy\n",
      "  from ipykernel import kernelapp as app\n"
     ]
    },
    {
     "data": {
      "text/html": [
       "<div>\n",
       "<table border=\"1\" class=\"dataframe\">\n",
       "  <thead>\n",
       "    <tr style=\"text-align: right;\">\n",
       "      <th></th>\n",
       "      <th>STATION</th>\n",
       "      <th>DATETIME</th>\n",
       "      <th>ENTRIES_DIFF</th>\n",
       "      <th>EXITS_DIFF</th>\n",
       "      <th>DAY</th>\n",
       "      <th>TIME</th>\n",
       "    </tr>\n",
       "  </thead>\n",
       "  <tbody>\n",
       "    <tr>\n",
       "      <th>1</th>\n",
       "      <td>LEXINGTON AVE</td>\n",
       "      <td>2015-04-25 04:00:00</td>\n",
       "      <td>40.0</td>\n",
       "      <td>14.0</td>\n",
       "      <td>5</td>\n",
       "      <td>04:00:00</td>\n",
       "    </tr>\n",
       "    <tr>\n",
       "      <th>2</th>\n",
       "      <td>LEXINGTON AVE</td>\n",
       "      <td>2015-04-25 08:00:00</td>\n",
       "      <td>25.0</td>\n",
       "      <td>31.0</td>\n",
       "      <td>5</td>\n",
       "      <td>08:00:00</td>\n",
       "    </tr>\n",
       "    <tr>\n",
       "      <th>3</th>\n",
       "      <td>LEXINGTON AVE</td>\n",
       "      <td>2015-04-25 12:00:00</td>\n",
       "      <td>126.0</td>\n",
       "      <td>104.0</td>\n",
       "      <td>5</td>\n",
       "      <td>12:00:00</td>\n",
       "    </tr>\n",
       "    <tr>\n",
       "      <th>4</th>\n",
       "      <td>LEXINGTON AVE</td>\n",
       "      <td>2015-04-25 16:00:00</td>\n",
       "      <td>289.0</td>\n",
       "      <td>74.0</td>\n",
       "      <td>5</td>\n",
       "      <td>16:00:00</td>\n",
       "    </tr>\n",
       "    <tr>\n",
       "      <th>5</th>\n",
       "      <td>LEXINGTON AVE</td>\n",
       "      <td>2015-04-25 20:00:00</td>\n",
       "      <td>370.0</td>\n",
       "      <td>56.0</td>\n",
       "      <td>5</td>\n",
       "      <td>20:00:00</td>\n",
       "    </tr>\n",
       "  </tbody>\n",
       "</table>\n",
       "</div>"
      ],
      "text/plain": [
       "         STATION            DATETIME  ENTRIES_DIFF  EXITS_DIFF  DAY      TIME\n",
       "1  LEXINGTON AVE 2015-04-25 04:00:00          40.0        14.0    5  04:00:00\n",
       "2  LEXINGTON AVE 2015-04-25 08:00:00          25.0        31.0    5  08:00:00\n",
       "3  LEXINGTON AVE 2015-04-25 12:00:00         126.0       104.0    5  12:00:00\n",
       "4  LEXINGTON AVE 2015-04-25 16:00:00         289.0        74.0    5  16:00:00\n",
       "5  LEXINGTON AVE 2015-04-25 20:00:00         370.0        56.0    5  20:00:00"
      ]
     },
     "execution_count": 82,
     "metadata": {},
     "output_type": "execute_result"
    }
   ],
   "source": [
    "data_dt['DAY'] = data_dt['DATETIME'].dt.dayofweek\n",
    "data_dt['TIME'] = data_dt['DATETIME'].dt.time\n",
    "data_dt.head()"
   ]
  },
  {
   "cell_type": "code",
   "execution_count": 85,
   "metadata": {
    "collapsed": false
   },
   "outputs": [
    {
     "data": {
      "text/html": [
       "<div>\n",
       "<table border=\"1\" class=\"dataframe\">\n",
       "  <thead>\n",
       "    <tr style=\"text-align: right;\">\n",
       "      <th></th>\n",
       "      <th></th>\n",
       "      <th></th>\n",
       "      <th>ENTRIES_DIFF</th>\n",
       "      <th>EXITS_DIFF</th>\n",
       "    </tr>\n",
       "    <tr>\n",
       "      <th>STATION</th>\n",
       "      <th>DAY</th>\n",
       "      <th>TIME</th>\n",
       "      <th></th>\n",
       "      <th></th>\n",
       "    </tr>\n",
       "  </thead>\n",
       "  <tbody>\n",
       "    <tr>\n",
       "      <th rowspan=\"12\" valign=\"top\">1 AVE</th>\n",
       "      <th rowspan=\"6\" valign=\"top\">0</th>\n",
       "      <th>00:00:00</th>\n",
       "      <td>84.600000</td>\n",
       "      <td>97.683333</td>\n",
       "    </tr>\n",
       "    <tr>\n",
       "      <th>04:00:00</th>\n",
       "      <td>20.516667</td>\n",
       "      <td>19.983333</td>\n",
       "    </tr>\n",
       "    <tr>\n",
       "      <th>08:00:00</th>\n",
       "      <td>145.033333</td>\n",
       "      <td>268.100000</td>\n",
       "    </tr>\n",
       "    <tr>\n",
       "      <th>12:00:00</th>\n",
       "      <td>482.800000</td>\n",
       "      <td>528.516667</td>\n",
       "    </tr>\n",
       "    <tr>\n",
       "      <th>16:00:00</th>\n",
       "      <td>464.166667</td>\n",
       "      <td>403.650000</td>\n",
       "    </tr>\n",
       "    <tr>\n",
       "      <th>20:00:00</th>\n",
       "      <td>629.500000</td>\n",
       "      <td>630.733333</td>\n",
       "    </tr>\n",
       "    <tr>\n",
       "      <th rowspan=\"6\" valign=\"top\">1</th>\n",
       "      <th>00:00:00</th>\n",
       "      <td>312.666667</td>\n",
       "      <td>332.366667</td>\n",
       "    </tr>\n",
       "    <tr>\n",
       "      <th>04:00:00</th>\n",
       "      <td>16.733333</td>\n",
       "      <td>17.333333</td>\n",
       "    </tr>\n",
       "    <tr>\n",
       "      <th>08:00:00</th>\n",
       "      <td>199.483333</td>\n",
       "      <td>341.233333</td>\n",
       "    </tr>\n",
       "    <tr>\n",
       "      <th>12:00:00</th>\n",
       "      <td>562.900000</td>\n",
       "      <td>585.100000</td>\n",
       "    </tr>\n",
       "    <tr>\n",
       "      <th>16:00:00</th>\n",
       "      <td>483.866667</td>\n",
       "      <td>431.733333</td>\n",
       "    </tr>\n",
       "    <tr>\n",
       "      <th>20:00:00</th>\n",
       "      <td>708.466667</td>\n",
       "      <td>692.550000</td>\n",
       "    </tr>\n",
       "  </tbody>\n",
       "</table>\n",
       "</div>"
      ],
      "text/plain": [
       "                      ENTRIES_DIFF  EXITS_DIFF\n",
       "STATION DAY TIME                              \n",
       "1 AVE   0   00:00:00     84.600000   97.683333\n",
       "            04:00:00     20.516667   19.983333\n",
       "            08:00:00    145.033333  268.100000\n",
       "            12:00:00    482.800000  528.516667\n",
       "            16:00:00    464.166667  403.650000\n",
       "            20:00:00    629.500000  630.733333\n",
       "        1   00:00:00    312.666667  332.366667\n",
       "            04:00:00     16.733333   17.333333\n",
       "            08:00:00    199.483333  341.233333\n",
       "            12:00:00    562.900000  585.100000\n",
       "            16:00:00    483.866667  431.733333\n",
       "            20:00:00    708.466667  692.550000"
      ]
     },
     "execution_count": 85,
     "metadata": {},
     "output_type": "execute_result"
    }
   ],
   "source": [
    "stations_dt = data_dt.groupby(['STATION','DAY','TIME'])\n",
    "all_dt = stations_dt['ENTRIES_DIFF','EXITS_DIFF'].mean()\n",
    "all_dt.head(12)"
   ]
  },
  {
   "cell_type": "markdown",
   "metadata": {},
   "source": [
    "# One station -- 1 AVE"
   ]
  },
  {
   "cell_type": "code",
   "execution_count": 86,
   "metadata": {
    "collapsed": false,
    "scrolled": false
   },
   "outputs": [
    {
     "name": "stdout",
     "output_type": "stream",
     "text": [
      "   DAY      TIME  ENTRIES_DIFF\n",
      "1    0  04:00:00     20.516667\n",
      "2    0  08:00:00    145.033333\n"
     ]
    }
   ],
   "source": [
    "station = '1 AVE'\n",
    "one_station = data_dt[ data_dt['STATION'] == station ]\n",
    "one_groupby = one_station.groupby(['DAY','TIME'])\n",
    "#one_dt = one_groupby['ENTRIES_DIFF','EXITS_DIFF'].mean()\n",
    "one_dt = one_groupby['ENTRIES_DIFF'].mean().reset_index()\n",
    "print one_dt[1:3]"
   ]
  },
  {
   "cell_type": "code",
   "execution_count": 93,
   "metadata": {
    "collapsed": false
   },
   "outputs": [
    {
     "data": {
      "text/html": [
       "<div>\n",
       "<table border=\"1\" class=\"dataframe\">\n",
       "  <thead>\n",
       "    <tr style=\"text-align: right;\">\n",
       "      <th>DAY</th>\n",
       "      <th>0</th>\n",
       "      <th>1</th>\n",
       "      <th>2</th>\n",
       "      <th>3</th>\n",
       "      <th>4</th>\n",
       "      <th>5</th>\n",
       "      <th>6</th>\n",
       "    </tr>\n",
       "    <tr>\n",
       "      <th>TIME</th>\n",
       "      <th></th>\n",
       "      <th></th>\n",
       "      <th></th>\n",
       "      <th></th>\n",
       "      <th></th>\n",
       "      <th></th>\n",
       "      <th></th>\n",
       "    </tr>\n",
       "  </thead>\n",
       "  <tbody>\n",
       "    <tr>\n",
       "      <th>04:00:00</th>\n",
       "      <td>20.516667</td>\n",
       "      <td>16.733333</td>\n",
       "      <td>21.300000</td>\n",
       "      <td>24.000000</td>\n",
       "      <td>3.346667e+01</td>\n",
       "      <td>49.616667</td>\n",
       "      <td>48.300000</td>\n",
       "    </tr>\n",
       "    <tr>\n",
       "      <th>08:00:00</th>\n",
       "      <td>145.033333</td>\n",
       "      <td>199.483333</td>\n",
       "      <td>191.483333</td>\n",
       "      <td>190.576271</td>\n",
       "      <td>1.493333e+02</td>\n",
       "      <td>19.350000</td>\n",
       "      <td>15.366667</td>\n",
       "    </tr>\n",
       "    <tr>\n",
       "      <th>12:00:00</th>\n",
       "      <td>482.800000</td>\n",
       "      <td>562.900000</td>\n",
       "      <td>583.500000</td>\n",
       "      <td>580.762712</td>\n",
       "      <td>1.586135e+07</td>\n",
       "      <td>84.600000</td>\n",
       "      <td>68.900000</td>\n",
       "    </tr>\n",
       "    <tr>\n",
       "      <th>16:00:00</th>\n",
       "      <td>464.166667</td>\n",
       "      <td>483.866667</td>\n",
       "      <td>497.733333</td>\n",
       "      <td>497.633333</td>\n",
       "      <td>5.401000e+02</td>\n",
       "      <td>150.116667</td>\n",
       "      <td>122.100000</td>\n",
       "    </tr>\n",
       "    <tr>\n",
       "      <th>20:00:00</th>\n",
       "      <td>629.500000</td>\n",
       "      <td>708.466667</td>\n",
       "      <td>732.383333</td>\n",
       "      <td>718.363636</td>\n",
       "      <td>7.359333e+02</td>\n",
       "      <td>131.933333</td>\n",
       "      <td>120.566667</td>\n",
       "    </tr>\n",
       "  </tbody>\n",
       "</table>\n",
       "</div>"
      ],
      "text/plain": [
       "DAY                0           1           2           3             4  \\\n",
       "TIME                                                                     \n",
       "04:00:00   20.516667   16.733333   21.300000   24.000000  3.346667e+01   \n",
       "08:00:00  145.033333  199.483333  191.483333  190.576271  1.493333e+02   \n",
       "12:00:00  482.800000  562.900000  583.500000  580.762712  1.586135e+07   \n",
       "16:00:00  464.166667  483.866667  497.733333  497.633333  5.401000e+02   \n",
       "20:00:00  629.500000  708.466667  732.383333  718.363636  7.359333e+02   \n",
       "\n",
       "DAY                5           6  \n",
       "TIME                              \n",
       "04:00:00   49.616667   48.300000  \n",
       "08:00:00   19.350000   15.366667  \n",
       "12:00:00   84.600000   68.900000  \n",
       "16:00:00  150.116667  122.100000  \n",
       "20:00:00  131.933333  120.566667  "
      ]
     },
     "execution_count": 93,
     "metadata": {},
     "output_type": "execute_result"
    }
   ],
   "source": [
    "# changing format of the pandas data frame from three-columns to 2-column indices and third-column as values\n",
    "# of a matrix\n",
    "one_dt_heatmap = one_dt.set_index(['DAY', 'TIME']).ENTRIES_DIFF.unstack(0)\n",
    "one_dt_heatmap[1:6]"
   ]
  },
  {
   "cell_type": "code",
   "execution_count": 91,
   "metadata": {
    "collapsed": false
   },
   "outputs": [
    {
     "data": {
      "text/plain": [
       "<matplotlib.axes._subplots.AxesSubplot at 0x7fb9dfd1fbd0>"
      ]
     },
     "execution_count": 91,
     "metadata": {},
     "output_type": "execute_result"
    },
    {
     "data": {
      "image/png": "[encoded data removed]",
      "text/plain": [
       "<matplotlib.figure.Figure at 0x7fb9e0d273d0>"
      ]
     },
     "metadata": {},
     "output_type": "display_data"
    }
   ],
   "source": [
    "# The data is VERY MESSY -- shows unreasonably high values for day 4, round noon time. \n",
    "# Wonder if we could filter these peaks somehow.\n",
    "sns.heatmap(one_dt_heatmap)"
   ]
  },
  {
   "cell_type": "markdown",
   "metadata": {},
   "source": [
    "# Group by station and datetime"
   ]
  },
  {
   "cell_type": "code",
   "execution_count": 94,
   "metadata": {
    "collapsed": false
   },
   "outputs": [
    {
     "data": {
      "text/html": [
       "<div>\n",
       "<table border=\"1\" class=\"dataframe\">\n",
       "  <thead>\n",
       "    <tr style=\"text-align: right;\">\n",
       "      <th></th>\n",
       "      <th></th>\n",
       "      <th>ENTRIES_DIFF</th>\n",
       "      <th>EXITS_DIFF</th>\n",
       "    </tr>\n",
       "    <tr>\n",
       "      <th>STATION</th>\n",
       "      <th>DATETIME</th>\n",
       "      <th></th>\n",
       "      <th></th>\n",
       "    </tr>\n",
       "  </thead>\n",
       "  <tbody>\n",
       "    <tr>\n",
       "      <th rowspan=\"5\" valign=\"top\">1 AVE</th>\n",
       "      <th>2015-04-25 04:00:00</th>\n",
       "      <td>3.0</td>\n",
       "      <td>76.0</td>\n",
       "    </tr>\n",
       "    <tr>\n",
       "      <th>2015-04-25 08:00:00</th>\n",
       "      <td>2.0</td>\n",
       "      <td>53.0</td>\n",
       "    </tr>\n",
       "    <tr>\n",
       "      <th>2015-04-25 12:00:00</th>\n",
       "      <td>2.0</td>\n",
       "      <td>54.0</td>\n",
       "    </tr>\n",
       "    <tr>\n",
       "      <th>2015-04-25 16:00:00</th>\n",
       "      <td>4.0</td>\n",
       "      <td>57.0</td>\n",
       "    </tr>\n",
       "    <tr>\n",
       "      <th>2015-04-25 20:00:00</th>\n",
       "      <td>0.0</td>\n",
       "      <td>41.0</td>\n",
       "    </tr>\n",
       "  </tbody>\n",
       "</table>\n",
       "</div>"
      ],
      "text/plain": [
       "                             ENTRIES_DIFF  EXITS_DIFF\n",
       "STATION DATETIME                                     \n",
       "1 AVE   2015-04-25 04:00:00           3.0        76.0\n",
       "        2015-04-25 08:00:00           2.0        53.0\n",
       "        2015-04-25 12:00:00           2.0        54.0\n",
       "        2015-04-25 16:00:00           4.0        57.0\n",
       "        2015-04-25 20:00:00           0.0        41.0"
      ]
     },
     "execution_count": 94,
     "metadata": {},
     "output_type": "execute_result"
    }
   ],
   "source": [
    "# group by station name and datetime,\n",
    "station_time_groupby = reg_data.groupby(['STATION','DATETIME'])\n",
    "\n",
    "# data.join(station_time_groupby['ENTRIES_DIFF','EXITS_DIFF'].sum(), on=['STATION','DATETIME'], rsuffix='_r')\n",
    "station_time_groupby['ENTRIES_DIFF','EXITS_DIFF'].sum().head()"
   ]
  },
  {
   "cell_type": "code",
   "execution_count": 95,
   "metadata": {
    "collapsed": false
   },
   "outputs": [
    {
     "data": {
      "text/plain": [
       "C/A                            A011\n",
       "UNIT                           R007\n",
       "SCP                        00-00-00\n",
       "STATION                       1 AVE\n",
       "LINENAME                          1\n",
       "DIVISION                        BMT\n",
       "DATE                     04/25/2015\n",
       "TIME                       00:00:00\n",
       "DESC                     RECOVR AUD\n",
       "ENTRIES                           0\n",
       "EXITS                             0\n",
       "DATETIME        2015-04-25 04:00:00\n",
       "ENTRIES_DIFF           -1.40381e+09\n",
       "EXITS_DIFF             -1.11135e+07\n",
       "dtype: object"
      ]
     },
     "execution_count": 95,
     "metadata": {},
     "output_type": "execute_result"
    }
   ],
   "source": [
    "# The dataset also leads to many negative diff values and unreasonably high negative diff peaks (-1.4x10^9)\n",
    "data[data.ENTRIES_DIFF < 0].min()"
   ]
  },
  {
   "cell_type": "code",
   "execution_count": null,
   "metadata": {
    "collapsed": true
   },
   "outputs": [],
   "source": []
  }
 ],
 "metadata": {
  "kernelspec": {
   "display_name": "Python 2",
   "language": "python",
   "name": "python2"
  },
  "language_info": {
   "codemirror_mode": {
    "name": "ipython",
    "version": 2
   },
   "file_extension": ".py",
   "mimetype": "text/x-python",
   "name": "python",
   "nbconvert_exporter": "python",
   "pygments_lexer": "ipython2",
   "version": "2.7.11"
  }
 },
 "nbformat": 4,
 "nbformat_minor": 0
}
