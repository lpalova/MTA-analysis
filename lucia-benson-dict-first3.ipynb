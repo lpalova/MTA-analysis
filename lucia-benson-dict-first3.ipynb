{
 "cells": [
  {
   "cell_type": "markdown",
   "metadata": {
    "collapsed": true
   },
   "source": [
    "# Reading Data"
   ]
  },
  {
   "cell_type": "code",
   "execution_count": 2,
   "metadata": {
    "collapsed": false
   },
   "outputs": [
    {
     "name": "stderr",
     "output_type": "stream",
     "text": [
      "/home/lucia/anaconda2/lib/python2.7/site-packages/matplotlib/font_manager.py:273: UserWarning: Matplotlib is building the font cache using fc-list. This may take a moment.\n",
      "  warnings.warn('Matplotlib is building the font cache using fc-list. This may take a moment.')\n"
     ]
    }
   ],
   "source": [
    "import csv\n",
    "import collections\n",
    "import dateutil.parser\n",
    "import urllib\n",
    "import contextlib\n",
    "import matplotlib.pyplot as plt\n",
    "import numpy as np"
   ]
  },
  {
   "cell_type": "code",
   "execution_count": 3,
   "metadata": {
    "collapsed": true
   },
   "outputs": [],
   "source": [
    "first_key = (\"A002\",\"R051\",\"02-00-00\",\"59 ST\")\n",
    "other_key = ('N134', 'R385', '00-00-00', 'ROCKAWAY BLVD')"
   ]
  },
  {
   "cell_type": "code",
   "execution_count": 4,
   "metadata": {
    "collapsed": true
   },
   "outputs": [],
   "source": [
    "def read_data(data):\n",
    "    dict_list = []\n",
    "    with open(data, 'rb') as csvfile:\n",
    "        reader = csv.DictReader(csvfile)\n",
    "        for row in reader:\n",
    "            dict_list.append(row)\n",
    "    return dict_list"
   ]
  },
  {
   "cell_type": "code",
   "execution_count": 5,
   "metadata": {
    "collapsed": false,
    "scrolled": true
   },
   "outputs": [
    {
     "name": "stdout",
     "output_type": "stream",
     "text": [
      "[{'DIVISION': 'BMT', 'LINENAME': 'NQR456', 'EXITS                                                               ': '0001893282                                             ', 'ENTRIES': '0005595746', 'C/A': 'A002', 'STATION': '59 ST', 'TIME': '04:00:00', 'DATE': '03/26/2016', 'SCP': '02-00-00', 'UNIT': 'R051', 'DESC': 'REGULAR'}, {'DIVISION': 'BMT', 'LINENAME': 'NQR456', 'EXITS                                                               ': '0001893282                                             ', 'ENTRIES': '0005595746', 'C/A': 'A002', 'STATION': '59 ST', 'TIME': '08:00:00', 'DATE': '03/26/2016', 'SCP': '02-00-00', 'UNIT': 'R051', 'DESC': 'REGULAR'}]\n"
     ]
    }
   ],
   "source": [
    "dict_list = read_data('turnstile_160402.txt')\n",
    "print dict_list[1:3]"
   ]
  },
  {
   "cell_type": "code",
   "execution_count": 3,
   "metadata": {
    "collapsed": true
   },
   "outputs": [],
   "source": [
    "def read_url(url):\n",
    "    dict_list = []\n",
    "    with contextlib.closing(urllib.urlopen(url)) as csvfile:\n",
    "        reader = csv.DictReader(csvfile)\n",
    "        for row in reader:\n",
    "            dict_list.append(row)\n",
    "    return dict_list"
   ]
  },
  {
   "cell_type": "code",
   "execution_count": 4,
   "metadata": {
    "collapsed": false,
    "scrolled": true
   },
   "outputs": [
    {
     "name": "stdout",
     "output_type": "stream",
     "text": [
      "[{'DIVISION': 'BMT', 'LINENAME': 'NQR456', 'EXITS                                                               ': '0001893282                                             ', 'ENTRIES': '0005595746', 'C/A': 'A002', 'STATION': '59 ST', 'TIME': '04:00:00', 'DATE': '03/26/2016', 'SCP': '02-00-00', 'UNIT': 'R051', 'DESC': 'REGULAR'}, {'DIVISION': 'BMT', 'LINENAME': 'NQR456', 'EXITS                                                               ': '0001893282                                             ', 'ENTRIES': '0005595746', 'C/A': 'A002', 'STATION': '59 ST', 'TIME': '08:00:00', 'DATE': '03/26/2016', 'SCP': '02-00-00', 'UNIT': 'R051', 'DESC': 'REGULAR'}]\n"
     ]
    }
   ],
   "source": [
    "url = 'http://web.mta.info/developers/data/nyct/turnstile/turnstile_160402.txt'\n",
    "dict_list = read_url(url)\n",
    "print dict_list[1:3]"
   ]
  },
  {
   "cell_type": "code",
   "execution_count": 6,
   "metadata": {
    "collapsed": false
   },
   "outputs": [
    {
     "name": "stdout",
     "output_type": "stream",
     "text": [
      "Equal\n"
     ]
    }
   ],
   "source": [
    "import json\n",
    "\n",
    "if json.dumps(dict_listdata) == json.dumps(dict_list):\n",
    "    print(\"Equal\")"
   ]
  },
  {
   "cell_type": "markdown",
   "metadata": {
    "collapsed": true
   },
   "source": [
    "# Challenge 1"
   ]
  },
  {
   "cell_type": "code",
   "execution_count": 5,
   "metadata": {
    "collapsed": true
   },
   "outputs": [],
   "source": [
    "def create_dict1(dict_list):\n",
    "    new_dict = collections.defaultdict(list)\n",
    "    for d in dict_list:\n",
    "        key = ( d['C/A'], d['UNIT'], d['SCP'], d['STATION'] )\n",
    "        value = [ d['LINENAME'], d['DIVISION'], d['DATE'], d['TIME'], d['DESC'], d['ENTRIES'], \n",
    "         d['EXITS                                                               '].strip()]\n",
    "        new_dict[key].append(value) \n",
    "    return new_dict\n"
   ]
  },
  {
   "cell_type": "code",
   "execution_count": 6,
   "metadata": {
    "collapsed": false,
    "scrolled": false
   },
   "outputs": [
    {
     "name": "stdout",
     "output_type": "stream",
     "text": [
      "('N134', 'R385', '00-00-00', 'ROCKAWAY BLVD')\n",
      "[['NQR456', 'BMT', '03/26/2016', '00:00:00', 'REGULAR', '0005595746', '0001893277'], ['NQR456', 'BMT', '03/26/2016', '04:00:00', 'REGULAR', '0005595746', '0001893282'], ['NQR456', 'BMT', '03/26/2016', '08:00:00', 'REGULAR', '0005595746', '0001893282'], ['NQR456', 'BMT', '03/26/2016', '12:00:00', 'REGULAR', '0005595746', '0001893282'], ['NQR456', 'BMT', '03/26/2016', '16:00:00', 'REGULAR', '0005595746', '0001893282'], ['NQR456', 'BMT', '03/26/2016', '20:00:00', 'REGULAR', '0005595746', '0001893282'], ['NQR456', 'BMT', '03/27/2016', '00:00:00', 'REGULAR', '0005595746', '0001893282'], ['NQR456', 'BMT', '03/27/2016', '04:00:00', 'REGULAR', '0005595746', '0001893282'], ['NQR456', 'BMT', '03/27/2016', '08:00:00', 'REGULAR', '0005595746', '0001893282'], ['NQR456', 'BMT', '03/27/2016', '12:00:00', 'REGULAR', '0005595746', '0001893282'], ['NQR456', 'BMT', '03/27/2016', '16:00:00', 'REGULAR', '0005595746', '0001893282'], ['NQR456', 'BMT', '03/27/2016', '20:00:00', 'REGULAR', '0005595746', '0001893282'], ['NQR456', 'BMT', '03/28/2016', '00:00:00', 'REGULAR', '0005595746', '0001893282'], ['NQR456', 'BMT', '03/28/2016', '04:00:00', 'REGULAR', '0005595746', '0001893282'], ['NQR456', 'BMT', '03/28/2016', '08:00:00', 'REGULAR', '0005595780', '0001893382'], ['NQR456', 'BMT', '03/28/2016', '12:00:00', 'REGULAR', '0005595936', '0001893679'], ['NQR456', 'BMT', '03/28/2016', '16:00:00', 'REGULAR', '0005596182', '0001893748'], ['NQR456', 'BMT', '03/28/2016', '20:00:00', 'REGULAR', '0005596691', '0001893934'], ['NQR456', 'BMT', '03/29/2016', '00:00:00', 'REGULAR', '0005596896', '0001893974'], ['NQR456', 'BMT', '03/29/2016', '04:00:00', 'REGULAR', '0005596905', '0001893975'], ['NQR456', 'BMT', '03/29/2016', '08:00:00', 'REGULAR', '0005596942', '0001894084'], ['NQR456', 'BMT', '03/29/2016', '12:00:00', 'REGULAR', '0005597074', '0001894423'], ['NQR456', 'BMT', '03/29/2016', '16:00:00', 'REGULAR', '0005597352', '0001894489'], ['NQR456', 'BMT', '03/29/2016', '20:00:00', 'REGULAR', '0005597835', '0001894809'], ['NQR456', 'BMT', '03/30/2016', '00:00:00', 'REGULAR', '0005598003', '0001894856'], ['NQR456', 'BMT', '03/30/2016', '04:00:00', 'REGULAR', '0005598010', '0001894859'], ['NQR456', 'BMT', '03/30/2016', '08:00:00', 'REGULAR', '0005598057', '0001894956'], ['NQR456', 'BMT', '03/30/2016', '12:00:00', 'REGULAR', '0005598218', '0001895280'], ['NQR456', 'BMT', '03/30/2016', '16:00:00', 'REGULAR', '0005598477', '0001895355'], ['NQR456', 'BMT', '03/30/2016', '20:00:00', 'REGULAR', '0005598979', '0001895657'], ['NQR456', 'BMT', '03/31/2016', '00:00:00', 'REGULAR', '0005599165', '0001895684'], ['NQR456', 'BMT', '03/31/2016', '04:00:00', 'REGULAR', '0005599165', '0001895684'], ['NQR456', 'BMT', '03/31/2016', '08:00:00', 'REGULAR', '0005599202', '0001895796'], ['NQR456', 'BMT', '03/31/2016', '09:22:41', 'REGULAR', '0005599230', '0001895891'], ['NQR456', 'BMT', '03/31/2016', '12:00:00', 'REGULAR', '0005599230', '0001895891'], ['NQR456', 'BMT', '03/31/2016', '16:00:00', 'REGULAR', '0005599230', '0001895891'], ['NQR456', 'BMT', '03/31/2016', '20:00:00', 'REGULAR', '0005599433', '0001895975'], ['NQR456', 'BMT', '04/01/2016', '00:00:00', 'REGULAR', '0005599639', '0001896005'], ['NQR456', 'BMT', '04/01/2016', '04:00:00', 'REGULAR', '0005599650', '0001896015'], ['NQR456', 'BMT', '04/01/2016', '08:00:00', 'REGULAR', '0005599690', '0001896110'], ['NQR456', 'BMT', '04/01/2016', '12:00:00', 'REGULAR', '0005599694', '0001896111'], ['NQR456', 'BMT', '04/01/2016', '16:00:00', 'REGULAR', '0005599946', '0001896170'], ['NQR456', 'BMT', '04/01/2016', '20:00:00', 'REGULAR', '0005600640', '0001896259']]\n",
      "43\n"
     ]
    }
   ],
   "source": [
    "my_dict = create_dict1(dict_list)\n",
    "print(my_dict.keys()[0])\n",
    "#print(my_dict[my_dict.keys()[0]])\n",
    "print my_dict[first_key]\n",
    "print(len(my_dict[(\"A002\",\"R051\",\"02-00-00\",\"59 ST\")]))"
   ]
  },
  {
   "cell_type": "markdown",
   "metadata": {
    "collapsed": true
   },
   "source": [
    "# Challenge 2"
   ]
  },
  {
   "cell_type": "code",
   "execution_count": 48,
   "metadata": {
    "collapsed": false
   },
   "outputs": [],
   "source": [
    "def create_dict2(dict_list):\n",
    "    new_dict = collections.defaultdict(list)\n",
    "    for d in dict_list:\n",
    "        key = ( d['C/A'], d['UNIT'], d['SCP'], d['STATION'] )\n",
    "        dt = d['DATE'] + \" \" + d['TIME']\n",
    "        dt = dateutil.parser.parse(dt)\n",
    "        value = [ dt, int(d['ENTRIES']) ]\n",
    "        new_dict[key].append(value) \n",
    "    for key in new_dict:\n",
    "        new_dict[key].sort(key=lambda ls: ls[0])\n",
    "        for i in range(len(new_dict[key])-1,0,-1):\n",
    "            new_dict[key][i][1] -= new_dict[key][i-1][1]\n",
    "        new_dict[key][0][1] = 0\n",
    "    return new_dict"
   ]
  },
  {
   "cell_type": "code",
   "execution_count": 49,
   "metadata": {
    "collapsed": false,
    "scrolled": true
   },
   "outputs": [
    {
     "name": "stdout",
     "output_type": "stream",
     "text": [
      "('N134', 'R385', '00-00-00', 'ROCKAWAY BLVD')\n",
      "[[datetime.datetime(2016, 3, 26, 1, 0), 0], [datetime.datetime(2016, 3, 26, 5, 0), 13], [datetime.datetime(2016, 3, 26, 9, 0), 140], [datetime.datetime(2016, 3, 26, 13, 0), 189], [datetime.datetime(2016, 3, 26, 17, 0), 208], [datetime.datetime(2016, 3, 26, 21, 0), 174], [datetime.datetime(2016, 3, 27, 1, 0), 98], [datetime.datetime(2016, 3, 27, 5, 0), 9], [datetime.datetime(2016, 3, 27, 9, 0), 95], [datetime.datetime(2016, 3, 27, 13, 0), 125], [datetime.datetime(2016, 3, 27, 17, 0), 133], [datetime.datetime(2016, 3, 27, 21, 0), 114], [datetime.datetime(2016, 3, 28, 1, 0), 65], [datetime.datetime(2016, 3, 28, 5, 0), 19], [datetime.datetime(2016, 3, 28, 9, 0), 595], [datetime.datetime(2016, 3, 28, 13, 0), 234], [datetime.datetime(2016, 3, 28, 17, 0), 270], [datetime.datetime(2016, 3, 28, 21, 0), 202], [datetime.datetime(2016, 3, 29, 1, 0), 80], [datetime.datetime(2016, 3, 29, 5, 0), 26], [datetime.datetime(2016, 3, 29, 9, 0), 670], [datetime.datetime(2016, 3, 29, 13, 0), 272], [datetime.datetime(2016, 3, 29, 17, 0), 272], [datetime.datetime(2016, 3, 29, 21, 0), 248], [datetime.datetime(2016, 3, 30, 1, 0), 73], [datetime.datetime(2016, 3, 30, 5, 0), 30], [datetime.datetime(2016, 3, 30, 9, 0), 692], [datetime.datetime(2016, 3, 30, 13, 0), 243], [datetime.datetime(2016, 3, 30, 17, 0), 306], [datetime.datetime(2016, 3, 30, 21, 0), 209], [datetime.datetime(2016, 3, 31, 1, 0), 82], [datetime.datetime(2016, 3, 31, 5, 0), 33], [datetime.datetime(2016, 3, 31, 9, 0), 692], [datetime.datetime(2016, 3, 31, 13, 0), 276], [datetime.datetime(2016, 3, 31, 17, 0), 245], [datetime.datetime(2016, 3, 31, 21, 0), 204], [datetime.datetime(2016, 4, 1, 1, 0), 80], [datetime.datetime(2016, 4, 1, 5, 0), 29], [datetime.datetime(2016, 4, 1, 9, 0), 622], [datetime.datetime(2016, 4, 1, 13, 0), 280], [datetime.datetime(2016, 4, 1, 17, 0), 261], [datetime.datetime(2016, 4, 1, 21, 0), 209]]\n"
     ]
    }
   ],
   "source": [
    "my_dict2 = create_dict2(dict_list)\n",
    "print(my_dict2.keys()[0])\n",
    "print(my_dict2[my_dict2.keys()[0]])"
   ]
  },
  {
   "cell_type": "code",
   "execution_count": 24,
   "metadata": {
    "collapsed": false
   },
   "outputs": [],
   "source": [
    "#print my_dict2[first_key]"
   ]
  },
  {
   "cell_type": "markdown",
   "metadata": {
    "collapsed": true
   },
   "source": [
    "# Challenge 3"
   ]
  },
  {
   "cell_type": "code",
   "execution_count": 56,
   "metadata": {
    "collapsed": true
   },
   "outputs": [],
   "source": [
    "def create_dict3(dict2):\n",
    "    dict3 = collections.defaultdict(list)\n",
    "    for key in dict2:\n",
    "        #key = ('N134', 'R385', '00-00-00', 'ROCKAWAY BLVD')\n",
    "        l = []\n",
    "        hist = collections.defaultdict(int)\n",
    "        for item in dict2[key]:\n",
    "            d = item[0]\n",
    "            hist[str(d.date())] += item[1]\n",
    "        for k in hist:\n",
    "            l.append([dateutil.parser.parse(k),hist[k]])\n",
    "        dict3[key]=l\n",
    "        del(l)\n",
    "        del(hist)\n",
    "    return dict3        "
   ]
  },
  {
   "cell_type": "code",
   "execution_count": 57,
   "metadata": {
    "collapsed": false
   },
   "outputs": [
    {
     "name": "stdout",
     "output_type": "stream",
     "text": [
      "('N134', 'R385', '00-00-00', 'ROCKAWAY BLVD')\n",
      "[[datetime.datetime(2016, 3, 26, 0, 0), 724], [datetime.datetime(2016, 3, 27, 0, 0), 574], [datetime.datetime(2016, 4, 1, 0, 0), 1481], [datetime.datetime(2016, 3, 31, 0, 0), 1532], [datetime.datetime(2016, 3, 30, 0, 0), 1553], [datetime.datetime(2016, 3, 28, 0, 0), 1385], [datetime.datetime(2016, 3, 29, 0, 0), 1568]]\n"
     ]
    }
   ],
   "source": [
    "my_dict3 = create_dict3(my_dict2)\n",
    "print(my_dict3.keys()[0])\n",
    "print(my_dict3[my_dict3.keys()[0]])"
   ]
  },
  {
   "cell_type": "code",
   "execution_count": null,
   "metadata": {
    "collapsed": true
   },
   "outputs": [],
   "source": []
  }
 ],
 "metadata": {
  "kernelspec": {
   "display_name": "Python 2",
   "language": "python",
   "name": "python2"
  },
  "language_info": {
   "codemirror_mode": {
    "name": "ipython",
    "version": 2
   },
   "file_extension": ".py",
   "mimetype": "text/x-python",
   "name": "python",
   "nbconvert_exporter": "python",
   "pygments_lexer": "ipython2",
   "version": "2.7.11"
  }
 },
 "nbformat": 4,
 "nbformat_minor": 0
}
